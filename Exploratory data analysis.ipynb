{
 "cells": [
  {
   "cell_type": "markdown",
   "id": "406cc7a1",
   "metadata": {},
   "source": [
    "<p>"
   ]
  },
  {
   "cell_type": "markdown",
   "id": "7d3429cd",
   "metadata": {},
   "source": [
    "<p>"
   ]
  },
  {
   "cell_type": "markdown",
   "id": "f82f4a22",
   "metadata": {},
   "source": [
    "<h1>Exploratory Data Analysis of the data set of <i>\"Students Exam Scores: Extended Dataset\"</i> </h1>"
   ]
  },
  {
   "cell_type": "markdown",
   "id": "ff3ccb3f",
   "metadata": {},
   "source": [
    "<b> Importing libraries"
   ]
  },
  {
   "cell_type": "markdown",
   "id": "f544cafb",
   "metadata": {},
   "source": [
    "<p>"
   ]
  },
  {
   "cell_type": "code",
   "execution_count": 75,
   "id": "25e25f7e",
   "metadata": {},
   "outputs": [],
   "source": [
    "import pandas as pd\n",
    "import numpy as np\n",
    "%matplotlib inline\n",
    "import matplotlib as plt\n",
    "import seaborn as sns"
   ]
  },
  {
   "cell_type": "markdown",
   "id": "d5f41049",
   "metadata": {},
   "source": [
    "<p>"
   ]
  },
  {
   "cell_type": "markdown",
   "id": "6ab9a74c",
   "metadata": {},
   "source": [
    "<b>Reading the Dataset"
   ]
  },
  {
   "cell_type": "markdown",
   "id": "a7019de4",
   "metadata": {},
   "source": [
    "<p>"
   ]
  },
  {
   "cell_type": "code",
   "execution_count": 2,
   "id": "2f1f715d",
   "metadata": {},
   "outputs": [
    {
     "data": {
      "text/html": [
       "<div>\n",
       "<style scoped>\n",
       "    .dataframe tbody tr th:only-of-type {\n",
       "        vertical-align: middle;\n",
       "    }\n",
       "\n",
       "    .dataframe tbody tr th {\n",
       "        vertical-align: top;\n",
       "    }\n",
       "\n",
       "    .dataframe thead th {\n",
       "        text-align: right;\n",
       "    }\n",
       "</style>\n",
       "<table border=\"1\" class=\"dataframe\">\n",
       "  <thead>\n",
       "    <tr style=\"text-align: right;\">\n",
       "      <th></th>\n",
       "      <th>Unnamed: 0</th>\n",
       "      <th>Gender</th>\n",
       "      <th>EthnicGroup</th>\n",
       "      <th>ParentEduc</th>\n",
       "      <th>LunchType</th>\n",
       "      <th>TestPrep</th>\n",
       "      <th>ParentMaritalStatus</th>\n",
       "      <th>PracticeSport</th>\n",
       "      <th>IsFirstChild</th>\n",
       "      <th>NrSiblings</th>\n",
       "      <th>TransportMeans</th>\n",
       "      <th>WklyStudyHours</th>\n",
       "      <th>MathScore</th>\n",
       "      <th>ReadingScore</th>\n",
       "      <th>WritingScore</th>\n",
       "    </tr>\n",
       "  </thead>\n",
       "  <tbody>\n",
       "    <tr>\n",
       "      <th>0</th>\n",
       "      <td>0</td>\n",
       "      <td>female</td>\n",
       "      <td>NaN</td>\n",
       "      <td>bachelor's degree</td>\n",
       "      <td>standard</td>\n",
       "      <td>none</td>\n",
       "      <td>married</td>\n",
       "      <td>regularly</td>\n",
       "      <td>yes</td>\n",
       "      <td>3.0</td>\n",
       "      <td>school_bus</td>\n",
       "      <td>&lt; 5</td>\n",
       "      <td>71</td>\n",
       "      <td>71</td>\n",
       "      <td>74</td>\n",
       "    </tr>\n",
       "    <tr>\n",
       "      <th>1</th>\n",
       "      <td>1</td>\n",
       "      <td>female</td>\n",
       "      <td>group C</td>\n",
       "      <td>some college</td>\n",
       "      <td>standard</td>\n",
       "      <td>NaN</td>\n",
       "      <td>married</td>\n",
       "      <td>sometimes</td>\n",
       "      <td>yes</td>\n",
       "      <td>0.0</td>\n",
       "      <td>NaN</td>\n",
       "      <td>10-May</td>\n",
       "      <td>69</td>\n",
       "      <td>90</td>\n",
       "      <td>88</td>\n",
       "    </tr>\n",
       "    <tr>\n",
       "      <th>2</th>\n",
       "      <td>2</td>\n",
       "      <td>female</td>\n",
       "      <td>group B</td>\n",
       "      <td>master's degree</td>\n",
       "      <td>standard</td>\n",
       "      <td>none</td>\n",
       "      <td>single</td>\n",
       "      <td>sometimes</td>\n",
       "      <td>yes</td>\n",
       "      <td>4.0</td>\n",
       "      <td>school_bus</td>\n",
       "      <td>&lt; 5</td>\n",
       "      <td>87</td>\n",
       "      <td>93</td>\n",
       "      <td>91</td>\n",
       "    </tr>\n",
       "    <tr>\n",
       "      <th>3</th>\n",
       "      <td>3</td>\n",
       "      <td>male</td>\n",
       "      <td>group A</td>\n",
       "      <td>associate's degree</td>\n",
       "      <td>free/reduced</td>\n",
       "      <td>none</td>\n",
       "      <td>married</td>\n",
       "      <td>never</td>\n",
       "      <td>no</td>\n",
       "      <td>1.0</td>\n",
       "      <td>NaN</td>\n",
       "      <td>10-May</td>\n",
       "      <td>45</td>\n",
       "      <td>56</td>\n",
       "      <td>42</td>\n",
       "    </tr>\n",
       "    <tr>\n",
       "      <th>4</th>\n",
       "      <td>4</td>\n",
       "      <td>male</td>\n",
       "      <td>group C</td>\n",
       "      <td>some college</td>\n",
       "      <td>standard</td>\n",
       "      <td>none</td>\n",
       "      <td>married</td>\n",
       "      <td>sometimes</td>\n",
       "      <td>yes</td>\n",
       "      <td>0.0</td>\n",
       "      <td>school_bus</td>\n",
       "      <td>10-May</td>\n",
       "      <td>76</td>\n",
       "      <td>78</td>\n",
       "      <td>75</td>\n",
       "    </tr>\n",
       "  </tbody>\n",
       "</table>\n",
       "</div>"
      ],
      "text/plain": [
       "   Unnamed: 0  Gender EthnicGroup          ParentEduc     LunchType TestPrep  \\\n",
       "0           0  female         NaN   bachelor's degree      standard     none   \n",
       "1           1  female     group C        some college      standard      NaN   \n",
       "2           2  female     group B     master's degree      standard     none   \n",
       "3           3    male     group A  associate's degree  free/reduced     none   \n",
       "4           4    male     group C        some college      standard     none   \n",
       "\n",
       "  ParentMaritalStatus PracticeSport IsFirstChild  NrSiblings TransportMeans  \\\n",
       "0             married     regularly          yes         3.0     school_bus   \n",
       "1             married     sometimes          yes         0.0            NaN   \n",
       "2              single     sometimes          yes         4.0     school_bus   \n",
       "3             married         never           no         1.0            NaN   \n",
       "4             married     sometimes          yes         0.0     school_bus   \n",
       "\n",
       "  WklyStudyHours  MathScore  ReadingScore  WritingScore  \n",
       "0            < 5         71            71            74  \n",
       "1         10-May         69            90            88  \n",
       "2            < 5         87            93            91  \n",
       "3         10-May         45            56            42  \n",
       "4         10-May         76            78            75  "
      ]
     },
     "execution_count": 2,
     "metadata": {},
     "output_type": "execute_result"
    }
   ],
   "source": [
    "df=pd.read_csv('student.csv')\n",
    "df.head()"
   ]
  },
  {
   "cell_type": "markdown",
   "id": "a720d2b0",
   "metadata": {},
   "source": [
    "<p>"
   ]
  },
  {
   "cell_type": "markdown",
   "id": "53ad5c81",
   "metadata": {},
   "source": [
    "<b>Checking if there's any null values column by column"
   ]
  },
  {
   "cell_type": "markdown",
   "id": "3e5d2139",
   "metadata": {},
   "source": [
    "<p>"
   ]
  },
  {
   "cell_type": "code",
   "execution_count": 3,
   "id": "a9ec21c5",
   "metadata": {},
   "outputs": [
    {
     "name": "stdout",
     "output_type": "stream",
     "text": [
      "Unnamed: 0\n",
      "True    30641\n",
      "Name: Unnamed: 0, dtype: int64\n",
      "\n",
      "Gender\n",
      "True    30641\n",
      "Name: Gender, dtype: int64\n",
      "\n",
      "EthnicGroup\n",
      "True     28801\n",
      "False     1840\n",
      "Name: EthnicGroup, dtype: int64\n",
      "\n",
      "ParentEduc\n",
      "True     28796\n",
      "False     1845\n",
      "Name: ParentEduc, dtype: int64\n",
      "\n",
      "LunchType\n",
      "True    30641\n",
      "Name: LunchType, dtype: int64\n",
      "\n",
      "TestPrep\n",
      "True     28811\n",
      "False     1830\n",
      "Name: TestPrep, dtype: int64\n",
      "\n",
      "ParentMaritalStatus\n",
      "True     29451\n",
      "False     1190\n",
      "Name: ParentMaritalStatus, dtype: int64\n",
      "\n",
      "PracticeSport\n",
      "True     30010\n",
      "False      631\n",
      "Name: PracticeSport, dtype: int64\n",
      "\n",
      "IsFirstChild\n",
      "True     29737\n",
      "False      904\n",
      "Name: IsFirstChild, dtype: int64\n",
      "\n",
      "NrSiblings\n",
      "True     29069\n",
      "False     1572\n",
      "Name: NrSiblings, dtype: int64\n",
      "\n",
      "TransportMeans\n",
      "True     27507\n",
      "False     3134\n",
      "Name: TransportMeans, dtype: int64\n",
      "\n",
      "WklyStudyHours\n",
      "True     29686\n",
      "False      955\n",
      "Name: WklyStudyHours, dtype: int64\n",
      "\n",
      "MathScore\n",
      "True    30641\n",
      "Name: MathScore, dtype: int64\n",
      "\n",
      "ReadingScore\n",
      "True    30641\n",
      "Name: ReadingScore, dtype: int64\n",
      "\n",
      "WritingScore\n",
      "True    30641\n",
      "Name: WritingScore, dtype: int64\n",
      "\n"
     ]
    }
   ],
   "source": [
    "for column in df.notnull().columns.values.tolist():\n",
    "    print(column)\n",
    "    print (df.notnull()[column].value_counts())\n",
    "    print('')"
   ]
  },
  {
   "cell_type": "markdown",
   "id": "74bba958",
   "metadata": {},
   "source": [
    "<p>"
   ]
  },
  {
   "cell_type": "markdown",
   "id": "359666d5",
   "metadata": {},
   "source": [
    "<b>Checking the information about the columns"
   ]
  },
  {
   "cell_type": "markdown",
   "id": "8c0095f5",
   "metadata": {},
   "source": [
    "<p>"
   ]
  },
  {
   "cell_type": "code",
   "execution_count": 4,
   "id": "ab824ca9",
   "metadata": {},
   "outputs": [
    {
     "name": "stdout",
     "output_type": "stream",
     "text": [
      "<class 'pandas.core.frame.DataFrame'>\n",
      "RangeIndex: 30641 entries, 0 to 30640\n",
      "Data columns (total 15 columns):\n",
      " #   Column               Non-Null Count  Dtype  \n",
      "---  ------               --------------  -----  \n",
      " 0   Unnamed: 0           30641 non-null  int64  \n",
      " 1   Gender               30641 non-null  object \n",
      " 2   EthnicGroup          28801 non-null  object \n",
      " 3   ParentEduc           28796 non-null  object \n",
      " 4   LunchType            30641 non-null  object \n",
      " 5   TestPrep             28811 non-null  object \n",
      " 6   ParentMaritalStatus  29451 non-null  object \n",
      " 7   PracticeSport        30010 non-null  object \n",
      " 8   IsFirstChild         29737 non-null  object \n",
      " 9   NrSiblings           29069 non-null  float64\n",
      " 10  TransportMeans       27507 non-null  object \n",
      " 11  WklyStudyHours       29686 non-null  object \n",
      " 12  MathScore            30641 non-null  int64  \n",
      " 13  ReadingScore         30641 non-null  int64  \n",
      " 14  WritingScore         30641 non-null  int64  \n",
      "dtypes: float64(1), int64(4), object(10)\n",
      "memory usage: 3.5+ MB\n"
     ]
    }
   ],
   "source": [
    "df.info()"
   ]
  },
  {
   "cell_type": "markdown",
   "id": "a3c5514e",
   "metadata": {},
   "source": [
    "<p>"
   ]
  },
  {
   "cell_type": "markdown",
   "id": "2d7f6936",
   "metadata": {},
   "source": [
    "<b>Making a list of the columns that has null value"
   ]
  },
  {
   "cell_type": "markdown",
   "id": "52e7afd4",
   "metadata": {},
   "source": [
    "<p>"
   ]
  },
  {
   "cell_type": "code",
   "execution_count": 14,
   "id": "9357d91d",
   "metadata": {},
   "outputs": [
    {
     "data": {
      "text/plain": [
       "[]"
      ]
     },
     "execution_count": 14,
     "metadata": {},
     "output_type": "execute_result"
    }
   ],
   "source": [
    "null_cols = df.loc[:, df.isnull().any()]\n",
    "listof_null_columns=list(null_cols.columns)\n",
    "listof_null_columns"
   ]
  },
  {
   "cell_type": "markdown",
   "id": "9666bf39",
   "metadata": {},
   "source": [
    "<p>"
   ]
  },
  {
   "cell_type": "markdown",
   "id": "05251449",
   "metadata": {},
   "source": [
    "<b>Making a list of column that has null value and data is <i>'object'"
   ]
  },
  {
   "cell_type": "markdown",
   "id": "a17c575c",
   "metadata": {},
   "source": [
    "<p>"
   ]
  },
  {
   "cell_type": "code",
   "execution_count": 13,
   "id": "ff26ddb0",
   "metadata": {},
   "outputs": [
    {
     "data": {
      "text/plain": [
       "[]"
      ]
     },
     "execution_count": 13,
     "metadata": {},
     "output_type": "execute_result"
    }
   ],
   "source": [
    "null_cols = df.select_dtypes(include='object').loc[:, df.isnull().any()]\n",
    "listof_null_columns_obj = list(null_cols.columns)\n",
    "listof_null_columns_obj"
   ]
  },
  {
   "cell_type": "markdown",
   "id": "3fb057ad",
   "metadata": {},
   "source": [
    "<p>"
   ]
  },
  {
   "cell_type": "markdown",
   "id": "a4fd33df",
   "metadata": {},
   "source": [
    "<b>Filling the value of null value for data type object</b><br>\n",
    "As it is a catagorical value we can't really calculate mean so we will find out the frequency and replace the null value with it"
   ]
  },
  {
   "cell_type": "markdown",
   "id": "4138ab6e",
   "metadata": {},
   "source": [
    "<p>"
   ]
  },
  {
   "cell_type": "code",
   "execution_count": 89,
   "id": "f49415cd",
   "metadata": {},
   "outputs": [],
   "source": [
    "for col in listof_null_columns_obj:\n",
    "    freq=df[col].value_counts().idxmax()\n",
    "    df[col].fillna(freq, inplace=True)"
   ]
  },
  {
   "cell_type": "markdown",
   "id": "f40f9a95",
   "metadata": {},
   "source": [
    "<p>"
   ]
  },
  {
   "cell_type": "markdown",
   "id": "fbb4ebf0",
   "metadata": {},
   "source": [
    "<b>Making a list of column that has null value and data is <i>'int64'"
   ]
  },
  {
   "cell_type": "markdown",
   "id": "cba2fa34",
   "metadata": {},
   "source": [
    "<p>"
   ]
  },
  {
   "cell_type": "code",
   "execution_count": 8,
   "id": "6e596477",
   "metadata": {},
   "outputs": [
    {
     "data": {
      "text/plain": [
       "[]"
      ]
     },
     "execution_count": 8,
     "metadata": {},
     "output_type": "execute_result"
    }
   ],
   "source": [
    "null_cols = df.select_dtypes(include='int64').loc[:, df.isnull().any()]\n",
    "listof_null_columns_int = list(null_cols.columns)\n",
    "listof_null_columns_int"
   ]
  },
  {
   "cell_type": "markdown",
   "id": "ca456ba9",
   "metadata": {},
   "source": [
    "<p>"
   ]
  },
  {
   "cell_type": "markdown",
   "id": "eae44571",
   "metadata": {},
   "source": [
    "<b>Making a list of column that has null value and data is <i>'float64'"
   ]
  },
  {
   "cell_type": "markdown",
   "id": "8a4a5336",
   "metadata": {},
   "source": [
    "<p>"
   ]
  },
  {
   "cell_type": "code",
   "execution_count": 16,
   "id": "ad3347c3",
   "metadata": {},
   "outputs": [
    {
     "data": {
      "text/plain": [
       "[]"
      ]
     },
     "execution_count": 16,
     "metadata": {},
     "output_type": "execute_result"
    }
   ],
   "source": [
    "null_cols = df.select_dtypes(include='float64').loc[:, df.isnull().any()]\n",
    "listof_null_columns_float = list(null_cols.columns)\n",
    "listof_null_columns_float"
   ]
  },
  {
   "cell_type": "markdown",
   "id": "f4ec3866",
   "metadata": {},
   "source": [
    "<p>"
   ]
  },
  {
   "cell_type": "markdown",
   "id": "ddea9753",
   "metadata": {},
   "source": [
    "<b>Filling the null value of the column that has datatype <i>'float64'</i> with it's mean</b>\n",
    "   "
   ]
  },
  {
   "cell_type": "markdown",
   "id": "a5ffe0b4",
   "metadata": {},
   "source": [
    "<p>"
   ]
  },
  {
   "cell_type": "code",
   "execution_count": 15,
   "id": "a3f8592c",
   "metadata": {},
   "outputs": [],
   "source": [
    "avg_val = df['NrSiblings'].mean(axis=0)\n",
    "df['NrSiblings'].fillna(round(avg_val), inplace=True)"
   ]
  },
  {
   "cell_type": "markdown",
   "id": "402df9eb",
   "metadata": {},
   "source": [
    "<p>"
   ]
  },
  {
   "cell_type": "markdown",
   "id": "54b89517",
   "metadata": {},
   "source": [
    "<b>Describing the basic statistics of the dataset parameter <i> \"include='all'\" </i> includes the variables that not a numerical variable"
   ]
  },
  {
   "cell_type": "markdown",
   "id": "a4b80175",
   "metadata": {},
   "source": [
    "<p>"
   ]
  },
  {
   "cell_type": "code",
   "execution_count": 19,
   "id": "0d0e6356",
   "metadata": {},
   "outputs": [
    {
     "data": {
      "text/html": [
       "<div>\n",
       "<style scoped>\n",
       "    .dataframe tbody tr th:only-of-type {\n",
       "        vertical-align: middle;\n",
       "    }\n",
       "\n",
       "    .dataframe tbody tr th {\n",
       "        vertical-align: top;\n",
       "    }\n",
       "\n",
       "    .dataframe thead th {\n",
       "        text-align: right;\n",
       "    }\n",
       "</style>\n",
       "<table border=\"1\" class=\"dataframe\">\n",
       "  <thead>\n",
       "    <tr style=\"text-align: right;\">\n",
       "      <th></th>\n",
       "      <th>Unnamed: 0</th>\n",
       "      <th>Gender</th>\n",
       "      <th>EthnicGroup</th>\n",
       "      <th>ParentEduc</th>\n",
       "      <th>LunchType</th>\n",
       "      <th>TestPrep</th>\n",
       "      <th>ParentMaritalStatus</th>\n",
       "      <th>PracticeSport</th>\n",
       "      <th>IsFirstChild</th>\n",
       "      <th>NrSiblings</th>\n",
       "      <th>TransportMeans</th>\n",
       "      <th>WklyStudyHours</th>\n",
       "      <th>MathScore</th>\n",
       "      <th>ReadingScore</th>\n",
       "      <th>WritingScore</th>\n",
       "    </tr>\n",
       "  </thead>\n",
       "  <tbody>\n",
       "    <tr>\n",
       "      <th>count</th>\n",
       "      <td>30641.000000</td>\n",
       "      <td>30641</td>\n",
       "      <td>30641</td>\n",
       "      <td>30641</td>\n",
       "      <td>30641</td>\n",
       "      <td>30641</td>\n",
       "      <td>30641</td>\n",
       "      <td>30641</td>\n",
       "      <td>30641</td>\n",
       "      <td>30641.000000</td>\n",
       "      <td>30641</td>\n",
       "      <td>30641</td>\n",
       "      <td>30641.000000</td>\n",
       "      <td>30641.000000</td>\n",
       "      <td>30641.000000</td>\n",
       "    </tr>\n",
       "    <tr>\n",
       "      <th>unique</th>\n",
       "      <td>NaN</td>\n",
       "      <td>2</td>\n",
       "      <td>5</td>\n",
       "      <td>6</td>\n",
       "      <td>2</td>\n",
       "      <td>2</td>\n",
       "      <td>4</td>\n",
       "      <td>3</td>\n",
       "      <td>2</td>\n",
       "      <td>NaN</td>\n",
       "      <td>2</td>\n",
       "      <td>3</td>\n",
       "      <td>NaN</td>\n",
       "      <td>NaN</td>\n",
       "      <td>NaN</td>\n",
       "    </tr>\n",
       "    <tr>\n",
       "      <th>top</th>\n",
       "      <td>NaN</td>\n",
       "      <td>female</td>\n",
       "      <td>group C</td>\n",
       "      <td>some college</td>\n",
       "      <td>standard</td>\n",
       "      <td>none</td>\n",
       "      <td>married</td>\n",
       "      <td>sometimes</td>\n",
       "      <td>yes</td>\n",
       "      <td>NaN</td>\n",
       "      <td>school_bus</td>\n",
       "      <td>10-May</td>\n",
       "      <td>NaN</td>\n",
       "      <td>NaN</td>\n",
       "      <td>NaN</td>\n",
       "    </tr>\n",
       "    <tr>\n",
       "      <th>freq</th>\n",
       "      <td>NaN</td>\n",
       "      <td>15424</td>\n",
       "      <td>11052</td>\n",
       "      <td>8478</td>\n",
       "      <td>19905</td>\n",
       "      <td>20686</td>\n",
       "      <td>18034</td>\n",
       "      <td>15844</td>\n",
       "      <td>19986</td>\n",
       "      <td>NaN</td>\n",
       "      <td>19279</td>\n",
       "      <td>17201</td>\n",
       "      <td>NaN</td>\n",
       "      <td>NaN</td>\n",
       "      <td>NaN</td>\n",
       "    </tr>\n",
       "    <tr>\n",
       "      <th>mean</th>\n",
       "      <td>499.556607</td>\n",
       "      <td>NaN</td>\n",
       "      <td>NaN</td>\n",
       "      <td>NaN</td>\n",
       "      <td>NaN</td>\n",
       "      <td>NaN</td>\n",
       "      <td>NaN</td>\n",
       "      <td>NaN</td>\n",
       "      <td>NaN</td>\n",
       "      <td>2.138409</td>\n",
       "      <td>NaN</td>\n",
       "      <td>NaN</td>\n",
       "      <td>66.558402</td>\n",
       "      <td>69.377533</td>\n",
       "      <td>68.418622</td>\n",
       "    </tr>\n",
       "    <tr>\n",
       "      <th>std</th>\n",
       "      <td>288.747894</td>\n",
       "      <td>NaN</td>\n",
       "      <td>NaN</td>\n",
       "      <td>NaN</td>\n",
       "      <td>NaN</td>\n",
       "      <td>NaN</td>\n",
       "      <td>NaN</td>\n",
       "      <td>NaN</td>\n",
       "      <td>NaN</td>\n",
       "      <td>1.420707</td>\n",
       "      <td>NaN</td>\n",
       "      <td>NaN</td>\n",
       "      <td>15.361616</td>\n",
       "      <td>14.758952</td>\n",
       "      <td>15.443525</td>\n",
       "    </tr>\n",
       "    <tr>\n",
       "      <th>min</th>\n",
       "      <td>0.000000</td>\n",
       "      <td>NaN</td>\n",
       "      <td>NaN</td>\n",
       "      <td>NaN</td>\n",
       "      <td>NaN</td>\n",
       "      <td>NaN</td>\n",
       "      <td>NaN</td>\n",
       "      <td>NaN</td>\n",
       "      <td>NaN</td>\n",
       "      <td>0.000000</td>\n",
       "      <td>NaN</td>\n",
       "      <td>NaN</td>\n",
       "      <td>0.000000</td>\n",
       "      <td>10.000000</td>\n",
       "      <td>4.000000</td>\n",
       "    </tr>\n",
       "    <tr>\n",
       "      <th>25%</th>\n",
       "      <td>249.000000</td>\n",
       "      <td>NaN</td>\n",
       "      <td>NaN</td>\n",
       "      <td>NaN</td>\n",
       "      <td>NaN</td>\n",
       "      <td>NaN</td>\n",
       "      <td>NaN</td>\n",
       "      <td>NaN</td>\n",
       "      <td>NaN</td>\n",
       "      <td>1.000000</td>\n",
       "      <td>NaN</td>\n",
       "      <td>NaN</td>\n",
       "      <td>56.000000</td>\n",
       "      <td>59.000000</td>\n",
       "      <td>58.000000</td>\n",
       "    </tr>\n",
       "    <tr>\n",
       "      <th>50%</th>\n",
       "      <td>500.000000</td>\n",
       "      <td>NaN</td>\n",
       "      <td>NaN</td>\n",
       "      <td>NaN</td>\n",
       "      <td>NaN</td>\n",
       "      <td>NaN</td>\n",
       "      <td>NaN</td>\n",
       "      <td>NaN</td>\n",
       "      <td>NaN</td>\n",
       "      <td>2.000000</td>\n",
       "      <td>NaN</td>\n",
       "      <td>NaN</td>\n",
       "      <td>67.000000</td>\n",
       "      <td>70.000000</td>\n",
       "      <td>69.000000</td>\n",
       "    </tr>\n",
       "    <tr>\n",
       "      <th>75%</th>\n",
       "      <td>750.000000</td>\n",
       "      <td>NaN</td>\n",
       "      <td>NaN</td>\n",
       "      <td>NaN</td>\n",
       "      <td>NaN</td>\n",
       "      <td>NaN</td>\n",
       "      <td>NaN</td>\n",
       "      <td>NaN</td>\n",
       "      <td>NaN</td>\n",
       "      <td>3.000000</td>\n",
       "      <td>NaN</td>\n",
       "      <td>NaN</td>\n",
       "      <td>78.000000</td>\n",
       "      <td>80.000000</td>\n",
       "      <td>79.000000</td>\n",
       "    </tr>\n",
       "    <tr>\n",
       "      <th>max</th>\n",
       "      <td>999.000000</td>\n",
       "      <td>NaN</td>\n",
       "      <td>NaN</td>\n",
       "      <td>NaN</td>\n",
       "      <td>NaN</td>\n",
       "      <td>NaN</td>\n",
       "      <td>NaN</td>\n",
       "      <td>NaN</td>\n",
       "      <td>NaN</td>\n",
       "      <td>7.000000</td>\n",
       "      <td>NaN</td>\n",
       "      <td>NaN</td>\n",
       "      <td>100.000000</td>\n",
       "      <td>100.000000</td>\n",
       "      <td>100.000000</td>\n",
       "    </tr>\n",
       "  </tbody>\n",
       "</table>\n",
       "</div>"
      ],
      "text/plain": [
       "          Unnamed: 0  Gender EthnicGroup    ParentEduc LunchType TestPrep  \\\n",
       "count   30641.000000   30641       30641         30641     30641    30641   \n",
       "unique           NaN       2           5             6         2        2   \n",
       "top              NaN  female     group C  some college  standard     none   \n",
       "freq             NaN   15424       11052          8478     19905    20686   \n",
       "mean      499.556607     NaN         NaN           NaN       NaN      NaN   \n",
       "std       288.747894     NaN         NaN           NaN       NaN      NaN   \n",
       "min         0.000000     NaN         NaN           NaN       NaN      NaN   \n",
       "25%       249.000000     NaN         NaN           NaN       NaN      NaN   \n",
       "50%       500.000000     NaN         NaN           NaN       NaN      NaN   \n",
       "75%       750.000000     NaN         NaN           NaN       NaN      NaN   \n",
       "max       999.000000     NaN         NaN           NaN       NaN      NaN   \n",
       "\n",
       "       ParentMaritalStatus PracticeSport IsFirstChild    NrSiblings  \\\n",
       "count                30641         30641        30641  30641.000000   \n",
       "unique                   4             3            2           NaN   \n",
       "top                married     sometimes          yes           NaN   \n",
       "freq                 18034         15844        19986           NaN   \n",
       "mean                   NaN           NaN          NaN      2.138409   \n",
       "std                    NaN           NaN          NaN      1.420707   \n",
       "min                    NaN           NaN          NaN      0.000000   \n",
       "25%                    NaN           NaN          NaN      1.000000   \n",
       "50%                    NaN           NaN          NaN      2.000000   \n",
       "75%                    NaN           NaN          NaN      3.000000   \n",
       "max                    NaN           NaN          NaN      7.000000   \n",
       "\n",
       "       TransportMeans WklyStudyHours     MathScore  ReadingScore  WritingScore  \n",
       "count           30641          30641  30641.000000  30641.000000  30641.000000  \n",
       "unique              2              3           NaN           NaN           NaN  \n",
       "top        school_bus         10-May           NaN           NaN           NaN  \n",
       "freq            19279          17201           NaN           NaN           NaN  \n",
       "mean              NaN            NaN     66.558402     69.377533     68.418622  \n",
       "std               NaN            NaN     15.361616     14.758952     15.443525  \n",
       "min               NaN            NaN      0.000000     10.000000      4.000000  \n",
       "25%               NaN            NaN     56.000000     59.000000     58.000000  \n",
       "50%               NaN            NaN     67.000000     70.000000     69.000000  \n",
       "75%               NaN            NaN     78.000000     80.000000     79.000000  \n",
       "max               NaN            NaN    100.000000    100.000000    100.000000  "
      ]
     },
     "execution_count": 19,
     "metadata": {},
     "output_type": "execute_result"
    }
   ],
   "source": [
    "df.describe(include='all')"
   ]
  },
  {
   "cell_type": "markdown",
   "id": "4f4b22a0",
   "metadata": {},
   "source": [
    "<p>"
   ]
  },
  {
   "cell_type": "markdown",
   "id": "0820ae87",
   "metadata": {},
   "source": [
    "Done with empty values...."
   ]
  },
  {
   "cell_type": "markdown",
   "id": "d104a81c",
   "metadata": {},
   "source": [
    "<p>"
   ]
  },
  {
   "cell_type": "markdown",
   "id": "6b92ba76",
   "metadata": {},
   "source": [
    "<b>Just some small calculation"
   ]
  },
  {
   "cell_type": "markdown",
   "id": "d6dc8ecc",
   "metadata": {},
   "source": [
    "<p>"
   ]
  },
  {
   "cell_type": "code",
   "execution_count": 25,
   "id": "24054913",
   "metadata": {},
   "outputs": [
    {
     "data": {
      "text/plain": [
       "5-10    17201\n",
       "< 5      8238\n",
       "> 10     5202\n",
       "Name: WklyStudyHours, dtype: int64"
      ]
     },
     "execution_count": 25,
     "metadata": {},
     "output_type": "execute_result"
    }
   ],
   "source": [
    "df['WklyStudyHours'].value_counts()"
   ]
  },
  {
   "cell_type": "markdown",
   "id": "93f16ae7",
   "metadata": {},
   "source": [
    "<b>Fixing the wrong format of data"
   ]
  },
  {
   "cell_type": "markdown",
   "id": "770d531b",
   "metadata": {},
   "source": [
    "<p>"
   ]
  },
  {
   "cell_type": "code",
   "execution_count": 24,
   "id": "85b06494",
   "metadata": {},
   "outputs": [
    {
     "data": {
      "text/plain": [
       "0         < 5\n",
       "1        5-10\n",
       "2         < 5\n",
       "3        5-10\n",
       "4        5-10\n",
       "         ... \n",
       "30636    5-10\n",
       "30637    5-10\n",
       "30638    5-10\n",
       "30639    5-10\n",
       "30640    5-10\n",
       "Name: WklyStudyHours, Length: 30641, dtype: object"
      ]
     },
     "execution_count": 24,
     "metadata": {},
     "output_type": "execute_result"
    }
   ],
   "source": [
    "df['WklyStudyHours'].replace(\"10-May\", '5-10',inplace=True)\n",
    "df['WklyStudyHours']"
   ]
  },
  {
   "cell_type": "markdown",
   "id": "82cd9f93",
   "metadata": {},
   "source": [
    "<b>Checking the correlation between numerical variable"
   ]
  },
  {
   "cell_type": "markdown",
   "id": "5e64016c",
   "metadata": {},
   "source": [
    "<p>"
   ]
  },
  {
   "cell_type": "code",
   "execution_count": 36,
   "id": "28c81dc6",
   "metadata": {},
   "outputs": [
    {
     "name": "stderr",
     "output_type": "stream",
     "text": [
      "C:\\Users\\Digital Outlet\\AppData\\Local\\Temp\\ipykernel_8860\\3092024657.py:1: FutureWarning: The default value of numeric_only in DataFrame.corr is deprecated. In a future version, it will default to False. Select only valid columns or specify the value of numeric_only to silence this warning.\n",
      "  co_re=df.corr()\n"
     ]
    },
    {
     "data": {
      "text/html": [
       "<div>\n",
       "<style scoped>\n",
       "    .dataframe tbody tr th:only-of-type {\n",
       "        vertical-align: middle;\n",
       "    }\n",
       "\n",
       "    .dataframe tbody tr th {\n",
       "        vertical-align: top;\n",
       "    }\n",
       "\n",
       "    .dataframe thead th {\n",
       "        text-align: right;\n",
       "    }\n",
       "</style>\n",
       "<table border=\"1\" class=\"dataframe\">\n",
       "  <thead>\n",
       "    <tr style=\"text-align: right;\">\n",
       "      <th></th>\n",
       "      <th>NrSiblings</th>\n",
       "      <th>MathScore</th>\n",
       "      <th>ReadingScore</th>\n",
       "      <th>WritingScore</th>\n",
       "    </tr>\n",
       "  </thead>\n",
       "  <tbody>\n",
       "    <tr>\n",
       "      <th>NrSiblings</th>\n",
       "      <td>1.000000</td>\n",
       "      <td>-0.001084</td>\n",
       "      <td>-0.000796</td>\n",
       "      <td>-0.002375</td>\n",
       "    </tr>\n",
       "    <tr>\n",
       "      <th>MathScore</th>\n",
       "      <td>-0.001084</td>\n",
       "      <td>1.000000</td>\n",
       "      <td>0.817825</td>\n",
       "      <td>0.807118</td>\n",
       "    </tr>\n",
       "    <tr>\n",
       "      <th>ReadingScore</th>\n",
       "      <td>-0.000796</td>\n",
       "      <td>0.817825</td>\n",
       "      <td>1.000000</td>\n",
       "      <td>0.952584</td>\n",
       "    </tr>\n",
       "    <tr>\n",
       "      <th>WritingScore</th>\n",
       "      <td>-0.002375</td>\n",
       "      <td>0.807118</td>\n",
       "      <td>0.952584</td>\n",
       "      <td>1.000000</td>\n",
       "    </tr>\n",
       "  </tbody>\n",
       "</table>\n",
       "</div>"
      ],
      "text/plain": [
       "              NrSiblings  MathScore  ReadingScore  WritingScore\n",
       "NrSiblings      1.000000  -0.001084     -0.000796     -0.002375\n",
       "MathScore      -0.001084   1.000000      0.817825      0.807118\n",
       "ReadingScore   -0.000796   0.817825      1.000000      0.952584\n",
       "WritingScore   -0.002375   0.807118      0.952584      1.000000"
      ]
     },
     "execution_count": 36,
     "metadata": {},
     "output_type": "execute_result"
    }
   ],
   "source": [
    "co_re=df.corr()\n",
    "co_re.iloc[1:,1:]"
   ]
  },
  {
   "cell_type": "markdown",
   "id": "9b645d3b",
   "metadata": {},
   "source": [
    "<b>Printing the columns of the data set"
   ]
  },
  {
   "cell_type": "markdown",
   "id": "3191c4fa",
   "metadata": {},
   "source": [
    "<p>"
   ]
  },
  {
   "cell_type": "code",
   "execution_count": 38,
   "id": "900bbf4a",
   "metadata": {},
   "outputs": [
    {
     "data": {
      "text/plain": [
       "Index(['Unnamed: 0', 'Gender', 'EthnicGroup', 'ParentEduc', 'LunchType',\n",
       "       'TestPrep', 'ParentMaritalStatus', 'PracticeSport', 'IsFirstChild',\n",
       "       'NrSiblings', 'TransportMeans', 'WklyStudyHours', 'MathScore',\n",
       "       'ReadingScore', 'WritingScore'],\n",
       "      dtype='object')"
      ]
     },
     "execution_count": 38,
     "metadata": {},
     "output_type": "execute_result"
    }
   ],
   "source": [
    "df.columns"
   ]
  },
  {
   "cell_type": "markdown",
   "id": "99733de5",
   "metadata": {},
   "source": [
    "<b>Drawing the scattar plot with regration line"
   ]
  },
  {
   "cell_type": "markdown",
   "id": "e1c84b6e",
   "metadata": {},
   "source": [
    "<b>"
   ]
  },
  {
   "cell_type": "code",
   "execution_count": 79,
   "id": "ce6c3aa2",
   "metadata": {},
   "outputs": [
    {
     "data": {
      "text/plain": [
       "(0.0, 104.5)"
      ]
     },
     "execution_count": 79,
     "metadata": {},
     "output_type": "execute_result"
    },
    {
     "data": {
      "image/png": "[encoded data removed]",
      "text/plain": [
       "<Figure size 1080x360 with 3 Axes>"
      ]
     },
     "metadata": {
      "needs_background": "light"
     },
     "output_type": "display_data"
    }
   ],
   "source": [
    "fig, axes = plt.subplots(1, 3, figsize=(15, 5))\n",
    "\n",
    "sns.regplot(x=\"ReadingScore\", y=\"MathScore\", data=df, ax=axes[0])\n",
    "axes[0].set_ylim(0,)\n",
    "\n",
    "sns.regplot(x=\"WritingScore\", y=\"MathScore\", data=df, ax=axes[1])\n",
    "axes[1].set_ylim(0,)\n",
    "\n",
    "sns.regplot(x=\"WritingScore\", y=\"ReadingScore\", data=df, ax=axes[2])\n",
    "axes[2].set_ylim(0,)"
   ]
  },
  {
   "cell_type": "markdown",
   "id": "3877c891",
   "metadata": {},
   "source": [
    "<h5> Thought </h5>\n",
    "<p>\n",
    "As we can see in plot the relation between variables are perfectly correlated. The regression line intersets most of the data points. \n",
    "\n",
    "</p>"
   ]
  },
  {
   "cell_type": "markdown",
   "id": "fae9c29b",
   "metadata": {},
   "source": [
    "<b>\n",
    "    "
   ]
  },
  {
   "cell_type": "code",
   "execution_count": 84,
   "id": "9c25871d",
   "metadata": {},
   "outputs": [
    {
     "data": {
      "text/plain": [
       "Text(0, 0.5, 'Score')"
      ]
     },
     "execution_count": 84,
     "metadata": {},
     "output_type": "execute_result"
    },
    {
     "data": {
      "image/png": "[encoded data removed]",
      "text/plain": [
       "<Figure size 2160x720 with 3 Axes>"
      ]
     },
     "metadata": {
      "needs_background": "light"
     },
     "output_type": "display_data"
    }
   ],
   "source": [
    "# Generate some sample data\n",
    "data1 = df[\"MathScore\"]\n",
    "data2 = df[\"ReadingScore\"]\n",
    "data3 = df[\"WritingScore\"]\n",
    "\n",
    "# Create a figure with three subplots\n",
    "fig, axs = plt.subplots(1, 3, figsize=(30, 10))\n",
    "\n",
    "# Plot the histograms on each subplot\n",
    "axs[0].hist(data1, bins=30,color='Green')\n",
    "axs[1].hist(data2, bins=30,color=\"Yellow\")\n",
    "axs[2].hist(data3, bins=30,color=\"Red\")\n",
    "\n",
    "# Set titles and labels\n",
    "axs[0].set_title('Histogram of Math Score')\n",
    "axs[1].set_title('Histogram of Reading Score')\n",
    "axs[2].set_title('Histogram of Writing Score')\n",
    "axs[0].set_xlabel('Count')\n",
    "axs[1].set_xlabel('Count')\n",
    "axs[2].set_xlabel('Count')\n",
    "axs[0].set_ylabel('Score')"
   ]
  },
  {
   "cell_type": "markdown",
   "id": "5357cefe",
   "metadata": {},
   "source": [
    "<b>"
   ]
  },
  {
   "cell_type": "markdown",
   "id": "3d231753",
   "metadata": {},
   "source": [
    "<b>"
   ]
  },
  {
   "cell_type": "code",
   "execution_count": 90,
   "id": "cafa0c73",
   "metadata": {},
   "outputs": [
    {
     "data": {
      "text/html": [
       "<div>\n",
       "<style scoped>\n",
       "    .dataframe tbody tr th:only-of-type {\n",
       "        vertical-align: middle;\n",
       "    }\n",
       "\n",
       "    .dataframe tbody tr th {\n",
       "        vertical-align: top;\n",
       "    }\n",
       "\n",
       "    .dataframe thead th {\n",
       "        text-align: right;\n",
       "    }\n",
       "</style>\n",
       "<table border=\"1\" class=\"dataframe\">\n",
       "  <thead>\n",
       "    <tr style=\"text-align: right;\">\n",
       "      <th></th>\n",
       "      <th>Gender</th>\n",
       "    </tr>\n",
       "  </thead>\n",
       "  <tbody>\n",
       "    <tr>\n",
       "      <th>3</th>\n",
       "      <td>male</td>\n",
       "    </tr>\n",
       "    <tr>\n",
       "      <th>4</th>\n",
       "      <td>male</td>\n",
       "    </tr>\n",
       "    <tr>\n",
       "      <th>7</th>\n",
       "      <td>male</td>\n",
       "    </tr>\n",
       "    <tr>\n",
       "      <th>8</th>\n",
       "      <td>male</td>\n",
       "    </tr>\n",
       "    <tr>\n",
       "      <th>10</th>\n",
       "      <td>male</td>\n",
       "    </tr>\n",
       "    <tr>\n",
       "      <th>...</th>\n",
       "      <td>...</td>\n",
       "    </tr>\n",
       "    <tr>\n",
       "      <th>30631</th>\n",
       "      <td>male</td>\n",
       "    </tr>\n",
       "    <tr>\n",
       "      <th>30634</th>\n",
       "      <td>male</td>\n",
       "    </tr>\n",
       "    <tr>\n",
       "      <th>30635</th>\n",
       "      <td>male</td>\n",
       "    </tr>\n",
       "    <tr>\n",
       "      <th>30637</th>\n",
       "      <td>male</td>\n",
       "    </tr>\n",
       "    <tr>\n",
       "      <th>30640</th>\n",
       "      <td>male</td>\n",
       "    </tr>\n",
       "  </tbody>\n",
       "</table>\n",
       "<p>15217 rows × 1 columns</p>\n",
       "</div>"
      ],
      "text/plain": [
       "      Gender\n",
       "3       male\n",
       "4       male\n",
       "7       male\n",
       "8       male\n",
       "10      male\n",
       "...      ...\n",
       "30631   male\n",
       "30634   male\n",
       "30635   male\n",
       "30637   male\n",
       "30640   male\n",
       "\n",
       "[15217 rows x 1 columns]"
      ]
     },
     "execution_count": 90,
     "metadata": {},
     "output_type": "execute_result"
    }
   ],
   "source": [
    "df_male= df[df['Gender']=='male']\n",
    "df_male[['Gender']]"
   ]
  },
  {
   "cell_type": "code",
   "execution_count": 85,
   "id": "5abbee7d",
   "metadata": {},
   "outputs": [
    {
     "data": {
      "text/html": [
       "<div>\n",
       "<style scoped>\n",
       "    .dataframe tbody tr th:only-of-type {\n",
       "        vertical-align: middle;\n",
       "    }\n",
       "\n",
       "    .dataframe tbody tr th {\n",
       "        vertical-align: top;\n",
       "    }\n",
       "\n",
       "    .dataframe thead th {\n",
       "        text-align: right;\n",
       "    }\n",
       "</style>\n",
       "<table border=\"1\" class=\"dataframe\">\n",
       "  <thead>\n",
       "    <tr style=\"text-align: right;\">\n",
       "      <th></th>\n",
       "      <th>Gender</th>\n",
       "    </tr>\n",
       "  </thead>\n",
       "  <tbody>\n",
       "    <tr>\n",
       "      <th>0</th>\n",
       "      <td>female</td>\n",
       "    </tr>\n",
       "    <tr>\n",
       "      <th>1</th>\n",
       "      <td>female</td>\n",
       "    </tr>\n",
       "    <tr>\n",
       "      <th>2</th>\n",
       "      <td>female</td>\n",
       "    </tr>\n",
       "    <tr>\n",
       "      <th>5</th>\n",
       "      <td>female</td>\n",
       "    </tr>\n",
       "    <tr>\n",
       "      <th>6</th>\n",
       "      <td>female</td>\n",
       "    </tr>\n",
       "    <tr>\n",
       "      <th>...</th>\n",
       "      <td>...</td>\n",
       "    </tr>\n",
       "    <tr>\n",
       "      <th>30632</th>\n",
       "      <td>female</td>\n",
       "    </tr>\n",
       "    <tr>\n",
       "      <th>30633</th>\n",
       "      <td>female</td>\n",
       "    </tr>\n",
       "    <tr>\n",
       "      <th>30636</th>\n",
       "      <td>female</td>\n",
       "    </tr>\n",
       "    <tr>\n",
       "      <th>30638</th>\n",
       "      <td>female</td>\n",
       "    </tr>\n",
       "    <tr>\n",
       "      <th>30639</th>\n",
       "      <td>female</td>\n",
       "    </tr>\n",
       "  </tbody>\n",
       "</table>\n",
       "<p>15424 rows × 1 columns</p>\n",
       "</div>"
      ],
      "text/plain": [
       "       Gender\n",
       "0      female\n",
       "1      female\n",
       "2      female\n",
       "5      female\n",
       "6      female\n",
       "...       ...\n",
       "30632  female\n",
       "30633  female\n",
       "30636  female\n",
       "30638  female\n",
       "30639  female\n",
       "\n",
       "[15424 rows x 1 columns]"
      ]
     },
     "execution_count": 85,
     "metadata": {},
     "output_type": "execute_result"
    }
   ],
   "source": [
    "df_female= df[df['Gender']=='female']\n",
    "df_female[['Gender']]"
   ]
  }
 ],
 "metadata": {
  "kernelspec": {
   "display_name": "Python 3 (ipykernel)",
   "language": "python",
   "name": "python3"
  },
  "language_info": {
   "codemirror_mode": {
    "name": "ipython",
    "version": 3
   },
   "file_extension": ".py",
   "mimetype": "text/x-python",
   "name": "python",
   "nbconvert_exporter": "python",
   "pygments_lexer": "ipython3",
   "version": "3.10.6"
  }
 },
 "nbformat": 4,
 "nbformat_minor": 5
}
