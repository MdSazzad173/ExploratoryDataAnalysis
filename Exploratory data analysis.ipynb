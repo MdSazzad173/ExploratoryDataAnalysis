{
 "cells": [
  {
   "cell_type": "markdown",
   "id": "794d1712",
   "metadata": {},
   "source": [
    "<p>"
   ]
  },
  {
   "cell_type": "markdown",
   "id": "a5f29df3",
   "metadata": {},
   "source": [
    "<p>"
   ]
  },
  {
   "cell_type": "markdown",
   "id": "e998d42c",
   "metadata": {},
   "source": [
    "<h1>Exploratory Data Analysis of the data set of <i>\"Students Exam Scores: Extended Dataset\"</i> </h1>"
   ]
  },
  {
   "cell_type": "markdown",
   "id": "c7273ac9",
   "metadata": {},
   "source": [
    "<style>\n",
    "  hr {\n",
    "    height: 5px; /* Adjust the desired thickness of the line */\n",
    "    background-color: black; /* Set the color of the line to black */\n",
    "    border: 1px solid black; /* Add a border with a thickness of 1px and black color */\n",
    "    margin: 10px 0; /* Adjust the margin around the line */\n",
    "  }\n",
    "</style>\n",
    "\n",
    "<hr>\n"
   ]
  },
  {
   "cell_type": "markdown",
   "id": "ff3ccb3f",
   "metadata": {},
   "source": [
    "<b> Importing libraries"
   ]
  },
  {
   "cell_type": "markdown",
   "id": "e0e1005e",
   "metadata": {},
   "source": [
    "<p>"
   ]
  },
  {
   "cell_type": "code",
   "execution_count": 1,
   "id": "25e25f7e",
   "metadata": {},
   "outputs": [],
   "source": [
    "import pandas as pd\n",
    "import numpy as np\n",
    "%matplotlib inline\n",
    "import matplotlib.pyplot as plt\n",
    "import seaborn as sns"
   ]
  },
  {
   "cell_type": "markdown",
   "id": "7f090fae",
   "metadata": {},
   "source": [
    "<p>"
   ]
  },
  {
   "cell_type": "markdown",
   "id": "0f33ad8e",
   "metadata": {},
   "source": [
    "<b>Reading the Dataset"
   ]
  },
  {
   "cell_type": "markdown",
   "id": "fe38e24a",
   "metadata": {},
   "source": [
    "<p>"
   ]
  },
  {
   "cell_type": "code",
   "execution_count": 2,
   "id": "2f1f715d",
   "metadata": {},
   "outputs": [
    {
     "data": {
      "text/html": [
       "<div>\n",
       "<style scoped>\n",
       "    .dataframe tbody tr th:only-of-type {\n",
       "        vertical-align: middle;\n",
       "    }\n",
       "\n",
       "    .dataframe tbody tr th {\n",
       "        vertical-align: top;\n",
       "    }\n",
       "\n",
       "    .dataframe thead th {\n",
       "        text-align: right;\n",
       "    }\n",
       "</style>\n",
       "<table border=\"1\" class=\"dataframe\">\n",
       "  <thead>\n",
       "    <tr style=\"text-align: right;\">\n",
       "      <th></th>\n",
       "      <th>Unnamed: 0</th>\n",
       "      <th>Gender</th>\n",
       "      <th>EthnicGroup</th>\n",
       "      <th>ParentEduc</th>\n",
       "      <th>LunchType</th>\n",
       "      <th>TestPrep</th>\n",
       "      <th>ParentMaritalStatus</th>\n",
       "      <th>PracticeSport</th>\n",
       "      <th>IsFirstChild</th>\n",
       "      <th>NrSiblings</th>\n",
       "      <th>TransportMeans</th>\n",
       "      <th>WklyStudyHours</th>\n",
       "      <th>MathScore</th>\n",
       "      <th>ReadingScore</th>\n",
       "      <th>WritingScore</th>\n",
       "    </tr>\n",
       "  </thead>\n",
       "  <tbody>\n",
       "    <tr>\n",
       "      <th>0</th>\n",
       "      <td>0</td>\n",
       "      <td>female</td>\n",
       "      <td>NaN</td>\n",
       "      <td>bachelor's degree</td>\n",
       "      <td>standard</td>\n",
       "      <td>none</td>\n",
       "      <td>married</td>\n",
       "      <td>regularly</td>\n",
       "      <td>yes</td>\n",
       "      <td>3.0</td>\n",
       "      <td>school_bus</td>\n",
       "      <td>&lt; 5</td>\n",
       "      <td>71</td>\n",
       "      <td>71</td>\n",
       "      <td>74</td>\n",
       "    </tr>\n",
       "    <tr>\n",
       "      <th>1</th>\n",
       "      <td>1</td>\n",
       "      <td>female</td>\n",
       "      <td>group C</td>\n",
       "      <td>some college</td>\n",
       "      <td>standard</td>\n",
       "      <td>NaN</td>\n",
       "      <td>married</td>\n",
       "      <td>sometimes</td>\n",
       "      <td>yes</td>\n",
       "      <td>0.0</td>\n",
       "      <td>NaN</td>\n",
       "      <td>10-May</td>\n",
       "      <td>69</td>\n",
       "      <td>90</td>\n",
       "      <td>88</td>\n",
       "    </tr>\n",
       "    <tr>\n",
       "      <th>2</th>\n",
       "      <td>2</td>\n",
       "      <td>female</td>\n",
       "      <td>group B</td>\n",
       "      <td>master's degree</td>\n",
       "      <td>standard</td>\n",
       "      <td>none</td>\n",
       "      <td>single</td>\n",
       "      <td>sometimes</td>\n",
       "      <td>yes</td>\n",
       "      <td>4.0</td>\n",
       "      <td>school_bus</td>\n",
       "      <td>&lt; 5</td>\n",
       "      <td>87</td>\n",
       "      <td>93</td>\n",
       "      <td>91</td>\n",
       "    </tr>\n",
       "    <tr>\n",
       "      <th>3</th>\n",
       "      <td>3</td>\n",
       "      <td>male</td>\n",
       "      <td>group A</td>\n",
       "      <td>associate's degree</td>\n",
       "      <td>free/reduced</td>\n",
       "      <td>none</td>\n",
       "      <td>married</td>\n",
       "      <td>never</td>\n",
       "      <td>no</td>\n",
       "      <td>1.0</td>\n",
       "      <td>NaN</td>\n",
       "      <td>10-May</td>\n",
       "      <td>45</td>\n",
       "      <td>56</td>\n",
       "      <td>42</td>\n",
       "    </tr>\n",
       "    <tr>\n",
       "      <th>4</th>\n",
       "      <td>4</td>\n",
       "      <td>male</td>\n",
       "      <td>group C</td>\n",
       "      <td>some college</td>\n",
       "      <td>standard</td>\n",
       "      <td>none</td>\n",
       "      <td>married</td>\n",
       "      <td>sometimes</td>\n",
       "      <td>yes</td>\n",
       "      <td>0.0</td>\n",
       "      <td>school_bus</td>\n",
       "      <td>10-May</td>\n",
       "      <td>76</td>\n",
       "      <td>78</td>\n",
       "      <td>75</td>\n",
       "    </tr>\n",
       "  </tbody>\n",
       "</table>\n",
       "</div>"
      ],
      "text/plain": [
       "   Unnamed: 0  Gender EthnicGroup          ParentEduc     LunchType TestPrep  \\\n",
       "0           0  female         NaN   bachelor's degree      standard     none   \n",
       "1           1  female     group C        some college      standard      NaN   \n",
       "2           2  female     group B     master's degree      standard     none   \n",
       "3           3    male     group A  associate's degree  free/reduced     none   \n",
       "4           4    male     group C        some college      standard     none   \n",
       "\n",
       "  ParentMaritalStatus PracticeSport IsFirstChild  NrSiblings TransportMeans  \\\n",
       "0             married     regularly          yes         3.0     school_bus   \n",
       "1             married     sometimes          yes         0.0            NaN   \n",
       "2              single     sometimes          yes         4.0     school_bus   \n",
       "3             married         never           no         1.0            NaN   \n",
       "4             married     sometimes          yes         0.0     school_bus   \n",
       "\n",
       "  WklyStudyHours  MathScore  ReadingScore  WritingScore  \n",
       "0            < 5         71            71            74  \n",
       "1         10-May         69            90            88  \n",
       "2            < 5         87            93            91  \n",
       "3         10-May         45            56            42  \n",
       "4         10-May         76            78            75  "
      ]
     },
     "execution_count": 2,
     "metadata": {},
     "output_type": "execute_result"
    }
   ],
   "source": [
    "df=pd.read_csv('student.csv')\n",
    "df.head()"
   ]
  },
  {
   "cell_type": "markdown",
   "id": "5a3136c8",
   "metadata": {},
   "source": [
    "<p>"
   ]
  },
  {
   "cell_type": "markdown",
   "id": "185d54db",
   "metadata": {},
   "source": [
    "<b>Checking if there's any null values column by column"
   ]
  },
  {
   "cell_type": "markdown",
   "id": "1d902732",
   "metadata": {},
   "source": [
    "<p>"
   ]
  },
  {
   "cell_type": "code",
   "execution_count": 3,
   "id": "a9ec21c5",
   "metadata": {},
   "outputs": [
    {
     "name": "stdout",
     "output_type": "stream",
     "text": [
      "Unnamed: 0\n",
      "True    30641\n",
      "Name: Unnamed: 0, dtype: int64\n",
      "\n",
      "Gender\n",
      "True    30641\n",
      "Name: Gender, dtype: int64\n",
      "\n",
      "EthnicGroup\n",
      "True     28801\n",
      "False     1840\n",
      "Name: EthnicGroup, dtype: int64\n",
      "\n",
      "ParentEduc\n",
      "True     28796\n",
      "False     1845\n",
      "Name: ParentEduc, dtype: int64\n",
      "\n",
      "LunchType\n",
      "True    30641\n",
      "Name: LunchType, dtype: int64\n",
      "\n",
      "TestPrep\n",
      "True     28811\n",
      "False     1830\n",
      "Name: TestPrep, dtype: int64\n",
      "\n",
      "ParentMaritalStatus\n",
      "True     29451\n",
      "False     1190\n",
      "Name: ParentMaritalStatus, dtype: int64\n",
      "\n",
      "PracticeSport\n",
      "True     30010\n",
      "False      631\n",
      "Name: PracticeSport, dtype: int64\n",
      "\n",
      "IsFirstChild\n",
      "True     29737\n",
      "False      904\n",
      "Name: IsFirstChild, dtype: int64\n",
      "\n",
      "NrSiblings\n",
      "True     29069\n",
      "False     1572\n",
      "Name: NrSiblings, dtype: int64\n",
      "\n",
      "TransportMeans\n",
      "True     27507\n",
      "False     3134\n",
      "Name: TransportMeans, dtype: int64\n",
      "\n",
      "WklyStudyHours\n",
      "True     29686\n",
      "False      955\n",
      "Name: WklyStudyHours, dtype: int64\n",
      "\n",
      "MathScore\n",
      "True    30641\n",
      "Name: MathScore, dtype: int64\n",
      "\n",
      "ReadingScore\n",
      "True    30641\n",
      "Name: ReadingScore, dtype: int64\n",
      "\n",
      "WritingScore\n",
      "True    30641\n",
      "Name: WritingScore, dtype: int64\n",
      "\n"
     ]
    }
   ],
   "source": [
    "for column in df.notnull().columns.values.tolist():\n",
    "    print(column)\n",
    "    print (df.notnull()[column].value_counts())\n",
    "    print('')"
   ]
  },
  {
   "cell_type": "markdown",
   "id": "77bf669c",
   "metadata": {},
   "source": [
    "<p>"
   ]
  },
  {
   "cell_type": "markdown",
   "id": "1daab4a6",
   "metadata": {},
   "source": [
    "<b>Checking the information about the columns"
   ]
  },
  {
   "cell_type": "markdown",
   "id": "0a6aa743",
   "metadata": {},
   "source": [
    "<p>"
   ]
  },
  {
   "cell_type": "code",
   "execution_count": 4,
   "id": "ab824ca9",
   "metadata": {},
   "outputs": [
    {
     "name": "stdout",
     "output_type": "stream",
     "text": [
      "<class 'pandas.core.frame.DataFrame'>\n",
      "RangeIndex: 30641 entries, 0 to 30640\n",
      "Data columns (total 15 columns):\n",
      " #   Column               Non-Null Count  Dtype  \n",
      "---  ------               --------------  -----  \n",
      " 0   Unnamed: 0           30641 non-null  int64  \n",
      " 1   Gender               30641 non-null  object \n",
      " 2   EthnicGroup          28801 non-null  object \n",
      " 3   ParentEduc           28796 non-null  object \n",
      " 4   LunchType            30641 non-null  object \n",
      " 5   TestPrep             28811 non-null  object \n",
      " 6   ParentMaritalStatus  29451 non-null  object \n",
      " 7   PracticeSport        30010 non-null  object \n",
      " 8   IsFirstChild         29737 non-null  object \n",
      " 9   NrSiblings           29069 non-null  float64\n",
      " 10  TransportMeans       27507 non-null  object \n",
      " 11  WklyStudyHours       29686 non-null  object \n",
      " 12  MathScore            30641 non-null  int64  \n",
      " 13  ReadingScore         30641 non-null  int64  \n",
      " 14  WritingScore         30641 non-null  int64  \n",
      "dtypes: float64(1), int64(4), object(10)\n",
      "memory usage: 3.5+ MB\n"
     ]
    }
   ],
   "source": [
    "df.info()"
   ]
  },
  {
   "cell_type": "markdown",
   "id": "63c298fe",
   "metadata": {},
   "source": [
    "<p>"
   ]
  },
  {
   "cell_type": "markdown",
   "id": "58032ed2",
   "metadata": {},
   "source": [
    "<b>Making a list of the columns that has null value"
   ]
  },
  {
   "cell_type": "markdown",
   "id": "aa1ce872",
   "metadata": {},
   "source": [
    "<p>"
   ]
  },
  {
   "cell_type": "code",
   "execution_count": 5,
   "id": "9357d91d",
   "metadata": {},
   "outputs": [
    {
     "data": {
      "text/plain": [
       "['EthnicGroup',\n",
       " 'ParentEduc',\n",
       " 'TestPrep',\n",
       " 'ParentMaritalStatus',\n",
       " 'PracticeSport',\n",
       " 'IsFirstChild',\n",
       " 'NrSiblings',\n",
       " 'TransportMeans',\n",
       " 'WklyStudyHours']"
      ]
     },
     "execution_count": 5,
     "metadata": {},
     "output_type": "execute_result"
    }
   ],
   "source": [
    "null_cols = df.loc[:, df.isnull().any()]\n",
    "listof_null_columns=list(null_cols.columns)\n",
    "listof_null_columns"
   ]
  },
  {
   "cell_type": "markdown",
   "id": "a909f0d0",
   "metadata": {},
   "source": [
    "<p>"
   ]
  },
  {
   "cell_type": "markdown",
   "id": "0bb85917",
   "metadata": {},
   "source": [
    "<b>Making a list of column that has null value and data is <i>'object'"
   ]
  },
  {
   "cell_type": "markdown",
   "id": "dd763e06",
   "metadata": {},
   "source": [
    "<p>"
   ]
  },
  {
   "cell_type": "code",
   "execution_count": 6,
   "id": "ff26ddb0",
   "metadata": {},
   "outputs": [
    {
     "data": {
      "text/plain": [
       "['EthnicGroup',\n",
       " 'ParentEduc',\n",
       " 'TestPrep',\n",
       " 'ParentMaritalStatus',\n",
       " 'PracticeSport',\n",
       " 'IsFirstChild',\n",
       " 'TransportMeans',\n",
       " 'WklyStudyHours']"
      ]
     },
     "execution_count": 6,
     "metadata": {},
     "output_type": "execute_result"
    }
   ],
   "source": [
    "null_cols = df.select_dtypes(include='object').loc[:, df.isnull().any()]\n",
    "listof_null_columns_obj = list(null_cols.columns)\n",
    "listof_null_columns_obj"
   ]
  },
  {
   "cell_type": "markdown",
   "id": "f28e53aa",
   "metadata": {},
   "source": [
    "<p>"
   ]
  },
  {
   "cell_type": "markdown",
   "id": "b5c5e683",
   "metadata": {},
   "source": [
    "<b>Filling the value of null value for data type object</b><br>\n",
    "As it is a catagorical value we can't really calculate mean so we will find out the frequency and replace the null value with it"
   ]
  },
  {
   "cell_type": "markdown",
   "id": "8288998d",
   "metadata": {},
   "source": [
    "<p>"
   ]
  },
  {
   "cell_type": "code",
   "execution_count": 7,
   "id": "f49415cd",
   "metadata": {},
   "outputs": [],
   "source": [
    "for col in listof_null_columns_obj:\n",
    "    freq=df[col].value_counts().idxmax()\n",
    "    df[col].fillna(freq, inplace=True)"
   ]
  },
  {
   "cell_type": "markdown",
   "id": "7470f6ec",
   "metadata": {},
   "source": [
    "<p>"
   ]
  },
  {
   "cell_type": "markdown",
   "id": "730f017c",
   "metadata": {},
   "source": [
    "<b>Making a list of column that has null value and data is <i>'int64'"
   ]
  },
  {
   "cell_type": "markdown",
   "id": "0ddad3a0",
   "metadata": {},
   "source": [
    "<p>"
   ]
  },
  {
   "cell_type": "code",
   "execution_count": 8,
   "id": "6e596477",
   "metadata": {},
   "outputs": [
    {
     "data": {
      "text/plain": [
       "[]"
      ]
     },
     "execution_count": 8,
     "metadata": {},
     "output_type": "execute_result"
    }
   ],
   "source": [
    "null_cols = df.select_dtypes(include='int64').loc[:, df.isnull().any()]\n",
    "listof_null_columns_int = list(null_cols.columns)\n",
    "listof_null_columns_int"
   ]
  },
  {
   "cell_type": "markdown",
   "id": "43141ea8",
   "metadata": {},
   "source": [
    "<p>"
   ]
  },
  {
   "cell_type": "markdown",
   "id": "c77bdff0",
   "metadata": {},
   "source": [
    "<b>Making a list of column that has null value and data is <i>'float64'"
   ]
  },
  {
   "cell_type": "markdown",
   "id": "daa6b498",
   "metadata": {},
   "source": [
    "<p>"
   ]
  },
  {
   "cell_type": "code",
   "execution_count": 9,
   "id": "ad3347c3",
   "metadata": {},
   "outputs": [
    {
     "data": {
      "text/plain": [
       "['NrSiblings']"
      ]
     },
     "execution_count": 9,
     "metadata": {},
     "output_type": "execute_result"
    }
   ],
   "source": [
    "null_cols = df.select_dtypes(include='float64').loc[:, df.isnull().any()]\n",
    "listof_null_columns_float = list(null_cols.columns)\n",
    "listof_null_columns_float"
   ]
  },
  {
   "cell_type": "markdown",
   "id": "0351b77a",
   "metadata": {},
   "source": [
    "<p>"
   ]
  },
  {
   "cell_type": "markdown",
   "id": "7dffc760",
   "metadata": {},
   "source": [
    "<b>Filling the null value of the column that has datatype <i>'float64'</i> with it's mean</b>\n",
    "   "
   ]
  },
  {
   "cell_type": "markdown",
   "id": "4eb97d67",
   "metadata": {},
   "source": [
    "<p>"
   ]
  },
  {
   "cell_type": "code",
   "execution_count": 10,
   "id": "a3f8592c",
   "metadata": {},
   "outputs": [],
   "source": [
    "avg_val = df['NrSiblings'].mean(axis=0)\n",
    "df['NrSiblings'].fillna(round(avg_val), inplace=True)"
   ]
  },
  {
   "cell_type": "markdown",
   "id": "dad343c9",
   "metadata": {},
   "source": [
    "<p>"
   ]
  },
  {
   "cell_type": "markdown",
   "id": "33cc24b6",
   "metadata": {},
   "source": [
    "<b>Describing the basic statistics of the dataset parameter <i> \"include='all'\" </i> includes the variables that not a numerical variable"
   ]
  },
  {
   "cell_type": "markdown",
   "id": "568ceb00",
   "metadata": {},
   "source": [
    "<p>"
   ]
  },
  {
   "cell_type": "code",
   "execution_count": 11,
   "id": "0d0e6356",
   "metadata": {},
   "outputs": [
    {
     "data": {
      "text/html": [
       "<div>\n",
       "<style scoped>\n",
       "    .dataframe tbody tr th:only-of-type {\n",
       "        vertical-align: middle;\n",
       "    }\n",
       "\n",
       "    .dataframe tbody tr th {\n",
       "        vertical-align: top;\n",
       "    }\n",
       "\n",
       "    .dataframe thead th {\n",
       "        text-align: right;\n",
       "    }\n",
       "</style>\n",
       "<table border=\"1\" class=\"dataframe\">\n",
       "  <thead>\n",
       "    <tr style=\"text-align: right;\">\n",
       "      <th></th>\n",
       "      <th>Unnamed: 0</th>\n",
       "      <th>Gender</th>\n",
       "      <th>EthnicGroup</th>\n",
       "      <th>ParentEduc</th>\n",
       "      <th>LunchType</th>\n",
       "      <th>TestPrep</th>\n",
       "      <th>ParentMaritalStatus</th>\n",
       "      <th>PracticeSport</th>\n",
       "      <th>IsFirstChild</th>\n",
       "      <th>NrSiblings</th>\n",
       "      <th>TransportMeans</th>\n",
       "      <th>WklyStudyHours</th>\n",
       "      <th>MathScore</th>\n",
       "      <th>ReadingScore</th>\n",
       "      <th>WritingScore</th>\n",
       "    </tr>\n",
       "  </thead>\n",
       "  <tbody>\n",
       "    <tr>\n",
       "      <th>count</th>\n",
       "      <td>30641.000000</td>\n",
       "      <td>30641</td>\n",
       "      <td>30641</td>\n",
       "      <td>30641</td>\n",
       "      <td>30641</td>\n",
       "      <td>30641</td>\n",
       "      <td>30641</td>\n",
       "      <td>30641</td>\n",
       "      <td>30641</td>\n",
       "      <td>30641.000000</td>\n",
       "      <td>30641</td>\n",
       "      <td>30641</td>\n",
       "      <td>30641.000000</td>\n",
       "      <td>30641.000000</td>\n",
       "      <td>30641.000000</td>\n",
       "    </tr>\n",
       "    <tr>\n",
       "      <th>unique</th>\n",
       "      <td>NaN</td>\n",
       "      <td>2</td>\n",
       "      <td>5</td>\n",
       "      <td>6</td>\n",
       "      <td>2</td>\n",
       "      <td>2</td>\n",
       "      <td>4</td>\n",
       "      <td>3</td>\n",
       "      <td>2</td>\n",
       "      <td>NaN</td>\n",
       "      <td>2</td>\n",
       "      <td>3</td>\n",
       "      <td>NaN</td>\n",
       "      <td>NaN</td>\n",
       "      <td>NaN</td>\n",
       "    </tr>\n",
       "    <tr>\n",
       "      <th>top</th>\n",
       "      <td>NaN</td>\n",
       "      <td>female</td>\n",
       "      <td>group C</td>\n",
       "      <td>some college</td>\n",
       "      <td>standard</td>\n",
       "      <td>none</td>\n",
       "      <td>married</td>\n",
       "      <td>sometimes</td>\n",
       "      <td>yes</td>\n",
       "      <td>NaN</td>\n",
       "      <td>school_bus</td>\n",
       "      <td>10-May</td>\n",
       "      <td>NaN</td>\n",
       "      <td>NaN</td>\n",
       "      <td>NaN</td>\n",
       "    </tr>\n",
       "    <tr>\n",
       "      <th>freq</th>\n",
       "      <td>NaN</td>\n",
       "      <td>15424</td>\n",
       "      <td>11052</td>\n",
       "      <td>8478</td>\n",
       "      <td>19905</td>\n",
       "      <td>20686</td>\n",
       "      <td>18034</td>\n",
       "      <td>15844</td>\n",
       "      <td>19986</td>\n",
       "      <td>NaN</td>\n",
       "      <td>19279</td>\n",
       "      <td>17201</td>\n",
       "      <td>NaN</td>\n",
       "      <td>NaN</td>\n",
       "      <td>NaN</td>\n",
       "    </tr>\n",
       "    <tr>\n",
       "      <th>mean</th>\n",
       "      <td>499.556607</td>\n",
       "      <td>NaN</td>\n",
       "      <td>NaN</td>\n",
       "      <td>NaN</td>\n",
       "      <td>NaN</td>\n",
       "      <td>NaN</td>\n",
       "      <td>NaN</td>\n",
       "      <td>NaN</td>\n",
       "      <td>NaN</td>\n",
       "      <td>2.138409</td>\n",
       "      <td>NaN</td>\n",
       "      <td>NaN</td>\n",
       "      <td>66.558402</td>\n",
       "      <td>69.377533</td>\n",
       "      <td>68.418622</td>\n",
       "    </tr>\n",
       "    <tr>\n",
       "      <th>std</th>\n",
       "      <td>288.747894</td>\n",
       "      <td>NaN</td>\n",
       "      <td>NaN</td>\n",
       "      <td>NaN</td>\n",
       "      <td>NaN</td>\n",
       "      <td>NaN</td>\n",
       "      <td>NaN</td>\n",
       "      <td>NaN</td>\n",
       "      <td>NaN</td>\n",
       "      <td>1.420707</td>\n",
       "      <td>NaN</td>\n",
       "      <td>NaN</td>\n",
       "      <td>15.361616</td>\n",
       "      <td>14.758952</td>\n",
       "      <td>15.443525</td>\n",
       "    </tr>\n",
       "    <tr>\n",
       "      <th>min</th>\n",
       "      <td>0.000000</td>\n",
       "      <td>NaN</td>\n",
       "      <td>NaN</td>\n",
       "      <td>NaN</td>\n",
       "      <td>NaN</td>\n",
       "      <td>NaN</td>\n",
       "      <td>NaN</td>\n",
       "      <td>NaN</td>\n",
       "      <td>NaN</td>\n",
       "      <td>0.000000</td>\n",
       "      <td>NaN</td>\n",
       "      <td>NaN</td>\n",
       "      <td>0.000000</td>\n",
       "      <td>10.000000</td>\n",
       "      <td>4.000000</td>\n",
       "    </tr>\n",
       "    <tr>\n",
       "      <th>25%</th>\n",
       "      <td>249.000000</td>\n",
       "      <td>NaN</td>\n",
       "      <td>NaN</td>\n",
       "      <td>NaN</td>\n",
       "      <td>NaN</td>\n",
       "      <td>NaN</td>\n",
       "      <td>NaN</td>\n",
       "      <td>NaN</td>\n",
       "      <td>NaN</td>\n",
       "      <td>1.000000</td>\n",
       "      <td>NaN</td>\n",
       "      <td>NaN</td>\n",
       "      <td>56.000000</td>\n",
       "      <td>59.000000</td>\n",
       "      <td>58.000000</td>\n",
       "    </tr>\n",
       "    <tr>\n",
       "      <th>50%</th>\n",
       "      <td>500.000000</td>\n",
       "      <td>NaN</td>\n",
       "      <td>NaN</td>\n",
       "      <td>NaN</td>\n",
       "      <td>NaN</td>\n",
       "      <td>NaN</td>\n",
       "      <td>NaN</td>\n",
       "      <td>NaN</td>\n",
       "      <td>NaN</td>\n",
       "      <td>2.000000</td>\n",
       "      <td>NaN</td>\n",
       "      <td>NaN</td>\n",
       "      <td>67.000000</td>\n",
       "      <td>70.000000</td>\n",
       "      <td>69.000000</td>\n",
       "    </tr>\n",
       "    <tr>\n",
       "      <th>75%</th>\n",
       "      <td>750.000000</td>\n",
       "      <td>NaN</td>\n",
       "      <td>NaN</td>\n",
       "      <td>NaN</td>\n",
       "      <td>NaN</td>\n",
       "      <td>NaN</td>\n",
       "      <td>NaN</td>\n",
       "      <td>NaN</td>\n",
       "      <td>NaN</td>\n",
       "      <td>3.000000</td>\n",
       "      <td>NaN</td>\n",
       "      <td>NaN</td>\n",
       "      <td>78.000000</td>\n",
       "      <td>80.000000</td>\n",
       "      <td>79.000000</td>\n",
       "    </tr>\n",
       "    <tr>\n",
       "      <th>max</th>\n",
       "      <td>999.000000</td>\n",
       "      <td>NaN</td>\n",
       "      <td>NaN</td>\n",
       "      <td>NaN</td>\n",
       "      <td>NaN</td>\n",
       "      <td>NaN</td>\n",
       "      <td>NaN</td>\n",
       "      <td>NaN</td>\n",
       "      <td>NaN</td>\n",
       "      <td>7.000000</td>\n",
       "      <td>NaN</td>\n",
       "      <td>NaN</td>\n",
       "      <td>100.000000</td>\n",
       "      <td>100.000000</td>\n",
       "      <td>100.000000</td>\n",
       "    </tr>\n",
       "  </tbody>\n",
       "</table>\n",
       "</div>"
      ],
      "text/plain": [
       "          Unnamed: 0  Gender EthnicGroup    ParentEduc LunchType TestPrep  \\\n",
       "count   30641.000000   30641       30641         30641     30641    30641   \n",
       "unique           NaN       2           5             6         2        2   \n",
       "top              NaN  female     group C  some college  standard     none   \n",
       "freq             NaN   15424       11052          8478     19905    20686   \n",
       "mean      499.556607     NaN         NaN           NaN       NaN      NaN   \n",
       "std       288.747894     NaN         NaN           NaN       NaN      NaN   \n",
       "min         0.000000     NaN         NaN           NaN       NaN      NaN   \n",
       "25%       249.000000     NaN         NaN           NaN       NaN      NaN   \n",
       "50%       500.000000     NaN         NaN           NaN       NaN      NaN   \n",
       "75%       750.000000     NaN         NaN           NaN       NaN      NaN   \n",
       "max       999.000000     NaN         NaN           NaN       NaN      NaN   \n",
       "\n",
       "       ParentMaritalStatus PracticeSport IsFirstChild    NrSiblings  \\\n",
       "count                30641         30641        30641  30641.000000   \n",
       "unique                   4             3            2           NaN   \n",
       "top                married     sometimes          yes           NaN   \n",
       "freq                 18034         15844        19986           NaN   \n",
       "mean                   NaN           NaN          NaN      2.138409   \n",
       "std                    NaN           NaN          NaN      1.420707   \n",
       "min                    NaN           NaN          NaN      0.000000   \n",
       "25%                    NaN           NaN          NaN      1.000000   \n",
       "50%                    NaN           NaN          NaN      2.000000   \n",
       "75%                    NaN           NaN          NaN      3.000000   \n",
       "max                    NaN           NaN          NaN      7.000000   \n",
       "\n",
       "       TransportMeans WklyStudyHours     MathScore  ReadingScore  WritingScore  \n",
       "count           30641          30641  30641.000000  30641.000000  30641.000000  \n",
       "unique              2              3           NaN           NaN           NaN  \n",
       "top        school_bus         10-May           NaN           NaN           NaN  \n",
       "freq            19279          17201           NaN           NaN           NaN  \n",
       "mean              NaN            NaN     66.558402     69.377533     68.418622  \n",
       "std               NaN            NaN     15.361616     14.758952     15.443525  \n",
       "min               NaN            NaN      0.000000     10.000000      4.000000  \n",
       "25%               NaN            NaN     56.000000     59.000000     58.000000  \n",
       "50%               NaN            NaN     67.000000     70.000000     69.000000  \n",
       "75%               NaN            NaN     78.000000     80.000000     79.000000  \n",
       "max               NaN            NaN    100.000000    100.000000    100.000000  "
      ]
     },
     "execution_count": 11,
     "metadata": {},
     "output_type": "execute_result"
    }
   ],
   "source": [
    "df.describe(include='all')"
   ]
  },
  {
   "cell_type": "markdown",
   "id": "06d215da",
   "metadata": {},
   "source": [
    "<p>"
   ]
  },
  {
   "cell_type": "markdown",
   "id": "6f026225",
   "metadata": {},
   "source": [
    "Done with empty values...."
   ]
  },
  {
   "cell_type": "markdown",
   "id": "935ba9f6",
   "metadata": {},
   "source": [
    "<p>"
   ]
  },
  {
   "cell_type": "markdown",
   "id": "9e18ed36",
   "metadata": {},
   "source": [
    "<b>Just some small calculation"
   ]
  },
  {
   "cell_type": "markdown",
   "id": "67e57078",
   "metadata": {},
   "source": [
    "<p>"
   ]
  },
  {
   "cell_type": "code",
   "execution_count": 12,
   "id": "90afe688",
   "metadata": {},
   "outputs": [
    {
     "data": {
      "text/plain": [
       "10-May    17201\n",
       "< 5        8238\n",
       "> 10       5202\n",
       "Name: WklyStudyHours, dtype: int64"
      ]
     },
     "execution_count": 12,
     "metadata": {},
     "output_type": "execute_result"
    }
   ],
   "source": [
    "df['WklyStudyHours'].value_counts()"
   ]
  },
  {
   "cell_type": "markdown",
   "id": "7873576c",
   "metadata": {},
   "source": [
    "<b>Fixing the wrong format of data"
   ]
  },
  {
   "cell_type": "markdown",
   "id": "66638f5b",
   "metadata": {},
   "source": [
    "<p>"
   ]
  },
  {
   "cell_type": "code",
   "execution_count": 13,
   "id": "3ce20d05",
   "metadata": {},
   "outputs": [
    {
     "data": {
      "text/plain": [
       "0         < 5\n",
       "1        5-10\n",
       "2         < 5\n",
       "3        5-10\n",
       "4        5-10\n",
       "         ... \n",
       "30636    5-10\n",
       "30637    5-10\n",
       "30638    5-10\n",
       "30639    5-10\n",
       "30640    5-10\n",
       "Name: WklyStudyHours, Length: 30641, dtype: object"
      ]
     },
     "execution_count": 13,
     "metadata": {},
     "output_type": "execute_result"
    }
   ],
   "source": [
    "df['WklyStudyHours'].replace(\"10-May\", '5-10',inplace=True)\n",
    "df['WklyStudyHours']"
   ]
  },
  {
   "cell_type": "markdown",
   "id": "df1d165f",
   "metadata": {},
   "source": [
    "<b>Checking the correlation between numerical variable"
   ]
  },
  {
   "cell_type": "markdown",
   "id": "fc75c97e",
   "metadata": {},
   "source": [
    "<p>"
   ]
  },
  {
   "cell_type": "code",
   "execution_count": 14,
   "id": "bbdaec93",
   "metadata": {},
   "outputs": [
    {
     "name": "stderr",
     "output_type": "stream",
     "text": [
      "C:\\Users\\Digital Outlet\\AppData\\Local\\Temp\\ipykernel_4828\\3092024657.py:1: FutureWarning: The default value of numeric_only in DataFrame.corr is deprecated. In a future version, it will default to False. Select only valid columns or specify the value of numeric_only to silence this warning.\n",
      "  co_re=df.corr()\n"
     ]
    },
    {
     "data": {
      "text/html": [
       "<div>\n",
       "<style scoped>\n",
       "    .dataframe tbody tr th:only-of-type {\n",
       "        vertical-align: middle;\n",
       "    }\n",
       "\n",
       "    .dataframe tbody tr th {\n",
       "        vertical-align: top;\n",
       "    }\n",
       "\n",
       "    .dataframe thead th {\n",
       "        text-align: right;\n",
       "    }\n",
       "</style>\n",
       "<table border=\"1\" class=\"dataframe\">\n",
       "  <thead>\n",
       "    <tr style=\"text-align: right;\">\n",
       "      <th></th>\n",
       "      <th>NrSiblings</th>\n",
       "      <th>MathScore</th>\n",
       "      <th>ReadingScore</th>\n",
       "      <th>WritingScore</th>\n",
       "    </tr>\n",
       "  </thead>\n",
       "  <tbody>\n",
       "    <tr>\n",
       "      <th>NrSiblings</th>\n",
       "      <td>1.000000</td>\n",
       "      <td>-0.001084</td>\n",
       "      <td>-0.000796</td>\n",
       "      <td>-0.002375</td>\n",
       "    </tr>\n",
       "    <tr>\n",
       "      <th>MathScore</th>\n",
       "      <td>-0.001084</td>\n",
       "      <td>1.000000</td>\n",
       "      <td>0.817825</td>\n",
       "      <td>0.807118</td>\n",
       "    </tr>\n",
       "    <tr>\n",
       "      <th>ReadingScore</th>\n",
       "      <td>-0.000796</td>\n",
       "      <td>0.817825</td>\n",
       "      <td>1.000000</td>\n",
       "      <td>0.952584</td>\n",
       "    </tr>\n",
       "    <tr>\n",
       "      <th>WritingScore</th>\n",
       "      <td>-0.002375</td>\n",
       "      <td>0.807118</td>\n",
       "      <td>0.952584</td>\n",
       "      <td>1.000000</td>\n",
       "    </tr>\n",
       "  </tbody>\n",
       "</table>\n",
       "</div>"
      ],
      "text/plain": [
       "              NrSiblings  MathScore  ReadingScore  WritingScore\n",
       "NrSiblings      1.000000  -0.001084     -0.000796     -0.002375\n",
       "MathScore      -0.001084   1.000000      0.817825      0.807118\n",
       "ReadingScore   -0.000796   0.817825      1.000000      0.952584\n",
       "WritingScore   -0.002375   0.807118      0.952584      1.000000"
      ]
     },
     "execution_count": 14,
     "metadata": {},
     "output_type": "execute_result"
    }
   ],
   "source": [
    "co_re=df.corr()\n",
    "co_re.iloc[1:,1:]"
   ]
  },
  {
   "cell_type": "markdown",
   "id": "2e84856c",
   "metadata": {},
   "source": [
    "<b>Printing the columns of the data set"
   ]
  },
  {
   "cell_type": "markdown",
   "id": "a9193b07",
   "metadata": {},
   "source": [
    "<p>"
   ]
  },
  {
   "cell_type": "code",
   "execution_count": 15,
   "id": "b1da4a7a",
   "metadata": {},
   "outputs": [
    {
     "data": {
      "text/plain": [
       "Index(['Unnamed: 0', 'Gender', 'EthnicGroup', 'ParentEduc', 'LunchType',\n",
       "       'TestPrep', 'ParentMaritalStatus', 'PracticeSport', 'IsFirstChild',\n",
       "       'NrSiblings', 'TransportMeans', 'WklyStudyHours', 'MathScore',\n",
       "       'ReadingScore', 'WritingScore'],\n",
       "      dtype='object')"
      ]
     },
     "execution_count": 15,
     "metadata": {},
     "output_type": "execute_result"
    }
   ],
   "source": [
    "df.columns"
   ]
  },
  {
   "cell_type": "markdown",
   "id": "cc278364",
   "metadata": {},
   "source": [
    "<b>Drawing the scattar plot with regration line"
   ]
  },
  {
   "cell_type": "markdown",
   "id": "ed4c8b80",
   "metadata": {},
   "source": [
    "<b>"
   ]
  },
  {
   "cell_type": "code",
   "execution_count": 16,
   "id": "09460efe",
   "metadata": {},
   "outputs": [
    {
     "data": {
      "text/plain": [
       "(0.0, 104.5)"
      ]
     },
     "execution_count": 16,
     "metadata": {},
     "output_type": "execute_result"
    },
    {
     "data": {
      "image/png": "[encoded data removed]",
      "text/plain": [
       "<Figure size 1080x360 with 3 Axes>"
      ]
     },
     "metadata": {
      "needs_background": "light"
     },
     "output_type": "display_data"
    }
   ],
   "source": [
    "fig, axes = plt.subplots(1, 3, figsize=(15, 5))\n",
    "\n",
    "sns.regplot(x=\"ReadingScore\", y=\"MathScore\", data=df, ax=axes[0])\n",
    "axes[0].set_ylim(0,)\n",
    "\n",
    "sns.regplot(x=\"WritingScore\", y=\"MathScore\", data=df, ax=axes[1])\n",
    "axes[1].set_ylim(0,)\n",
    "\n",
    "sns.regplot(x=\"WritingScore\", y=\"ReadingScore\", data=df, ax=axes[2])\n",
    "axes[2].set_ylim(0,)"
   ]
  },
  {
   "cell_type": "markdown",
   "id": "075b8442",
   "metadata": {},
   "source": [
    "<h5> Thought </h5>\n",
    "<p>\n",
    "As we can see in plot the relation between variables are perfectly correlated. The regression line intersets most of the data points. \n",
    "\n",
    "</p>"
   ]
  },
  {
   "cell_type": "markdown",
   "id": "3d94d6ed",
   "metadata": {},
   "source": [
    "<style>\n",
    "  hr {\n",
    "    height: 5px; /* Adjust the desired thickness of the line */\n",
    "    background-color: black; /* Set the color of the line to black */\n",
    "    border: 1px solid black; /* Add a border with a thickness of 1px and black color */\n",
    "    margin: 10px 0; /* Adjust the margin around the line */\n",
    "  }\n",
    "</style>\n",
    "\n",
    "<hr>\n"
   ]
  },
  {
   "cell_type": "markdown",
   "id": "feac24ee",
   "metadata": {},
   "source": [
    "<h5> Checking the value distribution of three scores</h5>"
   ]
  },
  {
   "cell_type": "code",
   "execution_count": 17,
   "id": "c92d2f1a",
   "metadata": {},
   "outputs": [
    {
     "data": {
      "text/plain": [
       "Text(0, 0.5, 'Score')"
      ]
     },
     "execution_count": 17,
     "metadata": {},
     "output_type": "execute_result"
    },
    {
     "data": {
      "image/png": "[encoded data removed]",
      "text/plain": [
       "<Figure size 2160x720 with 3 Axes>"
      ]
     },
     "metadata": {
      "needs_background": "light"
     },
     "output_type": "display_data"
    }
   ],
   "source": [
    "data1 = df[\"MathScore\"]\n",
    "data2 = df[\"ReadingScore\"]\n",
    "data3 = df[\"WritingScore\"]\n",
    "\n",
    "\n",
    "fig, axs = plt.subplots(1, 3, figsize=(30, 10))\n",
    "\n",
    "\n",
    "axs[0].hist(data1, bins=30,color='#0d5160')\n",
    "axs[1].hist(data2, bins=30,color=\"#b0095b\")\n",
    "axs[2].hist(data3, bins=30,color=\"#5a3907\")\n",
    "\n",
    "\n",
    "axs[0].set_title('Histogram of Math Score',fontsize=20)\n",
    "axs[1].set_title('Histogram of Reading Score',fontsize=20)\n",
    "axs[2].set_title('Histogram of Writing Score',fontsize=20)\n",
    "axs[0].set_xlabel('Count',fontsize=15)\n",
    "axs[1].set_xlabel('Count',fontsize=15)\n",
    "axs[2].set_xlabel('Count',fontsize=15)\n",
    "axs[0].set_ylabel('Score',fontsize=15)"
   ]
  },
  {
   "cell_type": "markdown",
   "id": "a3793b48",
   "metadata": {},
   "source": [
    "<style>\n",
    "  hr {\n",
    "    height: 5px; /* Adjust the desired thickness of the line */\n",
    "    background-color: black; /* Set the color of the line to black */\n",
    "    border: 1px solid black; /* Add a border with a thickness of 1px and black color */\n",
    "    margin: 10px 0; /* Adjust the margin around the line */\n",
    "  }\n",
    "</style>\n",
    "\n",
    "<hr>\n"
   ]
  },
  {
   "cell_type": "markdown",
   "id": "318a758d",
   "metadata": {},
   "source": [
    "<h5> Now calculating the average scores out of three scores </h5>\n",
    "<p> As we saw earlier from the correlation graph that the three scores are perfectly correlated with each other. That means if any student achieves a good result he did the same in other two.</p>"
   ]
  },
  {
   "cell_type": "code",
   "execution_count": 18,
   "id": "72b1d4a3",
   "metadata": {
    "scrolled": false
   },
   "outputs": [
    {
     "data": {
      "text/html": [
       "<div>\n",
       "<style scoped>\n",
       "    .dataframe tbody tr th:only-of-type {\n",
       "        vertical-align: middle;\n",
       "    }\n",
       "\n",
       "    .dataframe tbody tr th {\n",
       "        vertical-align: top;\n",
       "    }\n",
       "\n",
       "    .dataframe thead th {\n",
       "        text-align: right;\n",
       "    }\n",
       "</style>\n",
       "<table border=\"1\" class=\"dataframe\">\n",
       "  <thead>\n",
       "    <tr style=\"text-align: right;\">\n",
       "      <th></th>\n",
       "      <th>Unnamed: 0</th>\n",
       "      <th>Gender</th>\n",
       "      <th>EthnicGroup</th>\n",
       "      <th>ParentEduc</th>\n",
       "      <th>LunchType</th>\n",
       "      <th>TestPrep</th>\n",
       "      <th>ParentMaritalStatus</th>\n",
       "      <th>PracticeSport</th>\n",
       "      <th>IsFirstChild</th>\n",
       "      <th>NrSiblings</th>\n",
       "      <th>TransportMeans</th>\n",
       "      <th>WklyStudyHours</th>\n",
       "      <th>MathScore</th>\n",
       "      <th>ReadingScore</th>\n",
       "      <th>WritingScore</th>\n",
       "      <th>Total_avg_score</th>\n",
       "    </tr>\n",
       "  </thead>\n",
       "  <tbody>\n",
       "    <tr>\n",
       "      <th>0</th>\n",
       "      <td>0</td>\n",
       "      <td>female</td>\n",
       "      <td>group C</td>\n",
       "      <td>bachelor's degree</td>\n",
       "      <td>standard</td>\n",
       "      <td>none</td>\n",
       "      <td>married</td>\n",
       "      <td>regularly</td>\n",
       "      <td>yes</td>\n",
       "      <td>3.0</td>\n",
       "      <td>school_bus</td>\n",
       "      <td>&lt; 5</td>\n",
       "      <td>71</td>\n",
       "      <td>71</td>\n",
       "      <td>74</td>\n",
       "      <td>72</td>\n",
       "    </tr>\n",
       "    <tr>\n",
       "      <th>1</th>\n",
       "      <td>1</td>\n",
       "      <td>female</td>\n",
       "      <td>group C</td>\n",
       "      <td>some college</td>\n",
       "      <td>standard</td>\n",
       "      <td>none</td>\n",
       "      <td>married</td>\n",
       "      <td>sometimes</td>\n",
       "      <td>yes</td>\n",
       "      <td>0.0</td>\n",
       "      <td>school_bus</td>\n",
       "      <td>5-10</td>\n",
       "      <td>69</td>\n",
       "      <td>90</td>\n",
       "      <td>88</td>\n",
       "      <td>82</td>\n",
       "    </tr>\n",
       "    <tr>\n",
       "      <th>2</th>\n",
       "      <td>2</td>\n",
       "      <td>female</td>\n",
       "      <td>group B</td>\n",
       "      <td>master's degree</td>\n",
       "      <td>standard</td>\n",
       "      <td>none</td>\n",
       "      <td>single</td>\n",
       "      <td>sometimes</td>\n",
       "      <td>yes</td>\n",
       "      <td>4.0</td>\n",
       "      <td>school_bus</td>\n",
       "      <td>&lt; 5</td>\n",
       "      <td>87</td>\n",
       "      <td>93</td>\n",
       "      <td>91</td>\n",
       "      <td>90</td>\n",
       "    </tr>\n",
       "    <tr>\n",
       "      <th>3</th>\n",
       "      <td>3</td>\n",
       "      <td>male</td>\n",
       "      <td>group A</td>\n",
       "      <td>associate's degree</td>\n",
       "      <td>free/reduced</td>\n",
       "      <td>none</td>\n",
       "      <td>married</td>\n",
       "      <td>never</td>\n",
       "      <td>no</td>\n",
       "      <td>1.0</td>\n",
       "      <td>school_bus</td>\n",
       "      <td>5-10</td>\n",
       "      <td>45</td>\n",
       "      <td>56</td>\n",
       "      <td>42</td>\n",
       "      <td>47</td>\n",
       "    </tr>\n",
       "    <tr>\n",
       "      <th>4</th>\n",
       "      <td>4</td>\n",
       "      <td>male</td>\n",
       "      <td>group C</td>\n",
       "      <td>some college</td>\n",
       "      <td>standard</td>\n",
       "      <td>none</td>\n",
       "      <td>married</td>\n",
       "      <td>sometimes</td>\n",
       "      <td>yes</td>\n",
       "      <td>0.0</td>\n",
       "      <td>school_bus</td>\n",
       "      <td>5-10</td>\n",
       "      <td>76</td>\n",
       "      <td>78</td>\n",
       "      <td>75</td>\n",
       "      <td>76</td>\n",
       "    </tr>\n",
       "  </tbody>\n",
       "</table>\n",
       "</div>"
      ],
      "text/plain": [
       "   Unnamed: 0  Gender EthnicGroup          ParentEduc     LunchType TestPrep  \\\n",
       "0           0  female     group C   bachelor's degree      standard     none   \n",
       "1           1  female     group C        some college      standard     none   \n",
       "2           2  female     group B     master's degree      standard     none   \n",
       "3           3    male     group A  associate's degree  free/reduced     none   \n",
       "4           4    male     group C        some college      standard     none   \n",
       "\n",
       "  ParentMaritalStatus PracticeSport IsFirstChild  NrSiblings TransportMeans  \\\n",
       "0             married     regularly          yes         3.0     school_bus   \n",
       "1             married     sometimes          yes         0.0     school_bus   \n",
       "2              single     sometimes          yes         4.0     school_bus   \n",
       "3             married         never           no         1.0     school_bus   \n",
       "4             married     sometimes          yes         0.0     school_bus   \n",
       "\n",
       "  WklyStudyHours  MathScore  ReadingScore  WritingScore  Total_avg_score  \n",
       "0            < 5         71            71            74               72  \n",
       "1           5-10         69            90            88               82  \n",
       "2            < 5         87            93            91               90  \n",
       "3           5-10         45            56            42               47  \n",
       "4           5-10         76            78            75               76  "
      ]
     },
     "execution_count": 18,
     "metadata": {},
     "output_type": "execute_result"
    }
   ],
   "source": [
    "df['Total_avg_score']= (df['MathScore']+df['ReadingScore']+df['WritingScore'])/3\n",
    "df['Total_avg_score']=df['Total_avg_score'].astype('int')\n",
    "df.head()"
   ]
  },
  {
   "cell_type": "markdown",
   "id": "a79122dc",
   "metadata": {},
   "source": [
    "<h5> Now checking the value distribution of Average score </h5>"
   ]
  },
  {
   "cell_type": "code",
   "execution_count": 19,
   "id": "240822d6",
   "metadata": {},
   "outputs": [
    {
     "data": {
      "text/plain": [
       "Text(0.5, 1.0, 'Distribution of Average Scores')"
      ]
     },
     "execution_count": 19,
     "metadata": {},
     "output_type": "execute_result"
    },
    {
     "data": {
      "image/png": "[encoded data removed]",
      "text/plain": [
       "<Figure size 720x576 with 1 Axes>"
      ]
     },
     "metadata": {
      "needs_background": "light"
     },
     "output_type": "display_data"
    }
   ],
   "source": [
    "fig, axs = plt.subplots(figsize=(10, 8))\n",
    "plt.hist(df['Total_avg_score'], bins=20, color='#3E3F3F')\n",
    "plt.grid(axis='x',color='white',linestyle='--')\n",
    "plt.xlabel('Average score')\n",
    "plt.ylabel('Count')\n",
    "plt.title('Distribution of Average Scores')"
   ]
  },
  {
   "cell_type": "markdown",
   "id": "bccc7f25",
   "metadata": {},
   "source": [
    "<style>\n",
    "  hr {\n",
    "    height: 5px; /* Adjust the desired thickness of the line */\n",
    "    background-color: black; /* Set the color of the line to black */\n",
    "    border: 1px solid black; /* Add a border with a thickness of 1px and black color */\n",
    "    margin: 10px 0; /* Adjust the margin around the line */\n",
    "  }\n",
    "</style>\n",
    "\n",
    "<hr>\n"
   ]
  },
  {
   "cell_type": "markdown",
   "id": "8de649fe",
   "metadata": {},
   "source": [
    "<h5> Now we're binning the Average score.</h5>\n",
    "<p> We're making three bins. The labels of the bins are: <i> Excellent, Good and not good. </i> \n",
    "    "
   ]
  },
  {
   "cell_type": "code",
   "execution_count": 20,
   "id": "63e34a58",
   "metadata": {},
   "outputs": [
    {
     "data": {
      "text/plain": [
       "array([  9.        ,  39.33333333,  69.66666667, 100.        ])"
      ]
     },
     "execution_count": 20,
     "metadata": {},
     "output_type": "execute_result"
    }
   ],
   "source": [
    "bins = np.linspace(min(df['Total_avg_score']), max(df['Total_avg_score']), 4)\n",
    "bins"
   ]
  },
  {
   "cell_type": "code",
   "execution_count": 21,
   "id": "b7bf345f",
   "metadata": {},
   "outputs": [],
   "source": [
    "group_names = ['Not Good', 'Good', 'Excellent']"
   ]
  },
  {
   "cell_type": "code",
   "execution_count": 22,
   "id": "5841d1d8",
   "metadata": {},
   "outputs": [
    {
     "data": {
      "text/html": [
       "<div>\n",
       "<style scoped>\n",
       "    .dataframe tbody tr th:only-of-type {\n",
       "        vertical-align: middle;\n",
       "    }\n",
       "\n",
       "    .dataframe tbody tr th {\n",
       "        vertical-align: top;\n",
       "    }\n",
       "\n",
       "    .dataframe thead th {\n",
       "        text-align: right;\n",
       "    }\n",
       "</style>\n",
       "<table border=\"1\" class=\"dataframe\">\n",
       "  <thead>\n",
       "    <tr style=\"text-align: right;\">\n",
       "      <th></th>\n",
       "      <th>Total_avg_score</th>\n",
       "      <th>Score_status</th>\n",
       "    </tr>\n",
       "  </thead>\n",
       "  <tbody>\n",
       "    <tr>\n",
       "      <th>0</th>\n",
       "      <td>72</td>\n",
       "      <td>Excellent</td>\n",
       "    </tr>\n",
       "    <tr>\n",
       "      <th>1</th>\n",
       "      <td>82</td>\n",
       "      <td>Excellent</td>\n",
       "    </tr>\n",
       "    <tr>\n",
       "      <th>2</th>\n",
       "      <td>90</td>\n",
       "      <td>Excellent</td>\n",
       "    </tr>\n",
       "    <tr>\n",
       "      <th>3</th>\n",
       "      <td>47</td>\n",
       "      <td>Good</td>\n",
       "    </tr>\n",
       "    <tr>\n",
       "      <th>4</th>\n",
       "      <td>76</td>\n",
       "      <td>Excellent</td>\n",
       "    </tr>\n",
       "    <tr>\n",
       "      <th>5</th>\n",
       "      <td>78</td>\n",
       "      <td>Excellent</td>\n",
       "    </tr>\n",
       "    <tr>\n",
       "      <th>6</th>\n",
       "      <td>89</td>\n",
       "      <td>Excellent</td>\n",
       "    </tr>\n",
       "    <tr>\n",
       "      <th>7</th>\n",
       "      <td>41</td>\n",
       "      <td>Good</td>\n",
       "    </tr>\n",
       "    <tr>\n",
       "      <th>8</th>\n",
       "      <td>65</td>\n",
       "      <td>Good</td>\n",
       "    </tr>\n",
       "    <tr>\n",
       "      <th>9</th>\n",
       "      <td>48</td>\n",
       "      <td>Good</td>\n",
       "    </tr>\n",
       "    <tr>\n",
       "      <th>10</th>\n",
       "      <td>54</td>\n",
       "      <td>Good</td>\n",
       "    </tr>\n",
       "    <tr>\n",
       "      <th>11</th>\n",
       "      <td>45</td>\n",
       "      <td>Good</td>\n",
       "    </tr>\n",
       "    <tr>\n",
       "      <th>12</th>\n",
       "      <td>74</td>\n",
       "      <td>Excellent</td>\n",
       "    </tr>\n",
       "    <tr>\n",
       "      <th>13</th>\n",
       "      <td>74</td>\n",
       "      <td>Excellent</td>\n",
       "    </tr>\n",
       "    <tr>\n",
       "      <th>14</th>\n",
       "      <td>53</td>\n",
       "      <td>Good</td>\n",
       "    </tr>\n",
       "    <tr>\n",
       "      <th>15</th>\n",
       "      <td>74</td>\n",
       "      <td>Excellent</td>\n",
       "    </tr>\n",
       "    <tr>\n",
       "      <th>16</th>\n",
       "      <td>87</td>\n",
       "      <td>Excellent</td>\n",
       "    </tr>\n",
       "    <tr>\n",
       "      <th>17</th>\n",
       "      <td>26</td>\n",
       "      <td>Not Good</td>\n",
       "    </tr>\n",
       "    <tr>\n",
       "      <th>18</th>\n",
       "      <td>45</td>\n",
       "      <td>Good</td>\n",
       "    </tr>\n",
       "    <tr>\n",
       "      <th>19</th>\n",
       "      <td>54</td>\n",
       "      <td>Good</td>\n",
       "    </tr>\n",
       "  </tbody>\n",
       "</table>\n",
       "</div>"
      ],
      "text/plain": [
       "    Total_avg_score Score_status\n",
       "0                72    Excellent\n",
       "1                82    Excellent\n",
       "2                90    Excellent\n",
       "3                47         Good\n",
       "4                76    Excellent\n",
       "5                78    Excellent\n",
       "6                89    Excellent\n",
       "7                41         Good\n",
       "8                65         Good\n",
       "9                48         Good\n",
       "10               54         Good\n",
       "11               45         Good\n",
       "12               74    Excellent\n",
       "13               74    Excellent\n",
       "14               53         Good\n",
       "15               74    Excellent\n",
       "16               87    Excellent\n",
       "17               26     Not Good\n",
       "18               45         Good\n",
       "19               54         Good"
      ]
     },
     "execution_count": 22,
     "metadata": {},
     "output_type": "execute_result"
    }
   ],
   "source": [
    "df['Score_status'] = pd.cut(df['Total_avg_score'], bins, labels=group_names, include_lowest=True )\n",
    "df[['Total_avg_score','Score_status']].head(20)"
   ]
  },
  {
   "cell_type": "markdown",
   "id": "df3a9325",
   "metadata": {},
   "source": [
    "<p>"
   ]
  },
  {
   "cell_type": "markdown",
   "id": "38f29ae3",
   "metadata": {},
   "source": [
    "<h5> Now we're checking the the distribution of thos bins </h5>"
   ]
  },
  {
   "cell_type": "code",
   "execution_count": 23,
   "id": "84000f4a",
   "metadata": {},
   "outputs": [
    {
     "data": {
      "text/plain": [
       "Text(0.5, 1.0, 'Binned Distribution of Average Scores')"
      ]
     },
     "execution_count": 23,
     "metadata": {},
     "output_type": "execute_result"
    },
    {
     "data": {
      "image/png": "[encoded data removed]",
      "text/plain": [
       "<Figure size 576x360 with 1 Axes>"
      ]
     },
     "metadata": {
      "needs_background": "light"
     },
     "output_type": "display_data"
    }
   ],
   "source": [
    "fig, axs = plt.subplots(figsize=(8, 5))\n",
    "x=df['Total_avg_score'].sort_values()\n",
    "plt.hist(x, bins=3, color='#064856')\n",
    "plt.grid(axis='x',color='white',linestyle='--')\n",
    "plt.xlabel('Average score')\n",
    "plt.ylabel(\"count\")\n",
    "plt.title(\"Binned Distribution of Average Scores\")"
   ]
  },
  {
   "cell_type": "markdown",
   "id": "5fe4a696",
   "metadata": {},
   "source": [
    "<style>\n",
    "  hr {\n",
    "    height: 5px; /* Adjust the desired thickness of the line */\n",
    "    background-color: black; /* Set the color of the line to black */\n",
    "    border: 1px solid black; /* Add a border with a thickness of 1px and black color */\n",
    "    margin: 10px 0; /* Adjust the margin around the line */\n",
    "  }\n",
    "</style>\n",
    "\n",
    "<hr>\n"
   ]
  },
  {
   "cell_type": "markdown",
   "id": "5ab71ea3",
   "metadata": {},
   "source": [
    "<h5> Checking how many student scores excellent, good or bad. </h5>"
   ]
  },
  {
   "cell_type": "markdown",
   "id": "156e14c4",
   "metadata": {},
   "source": [
    "<p>"
   ]
  },
  {
   "cell_type": "code",
   "execution_count": 24,
   "id": "405ffb9a",
   "metadata": {},
   "outputs": [
    {
     "data": {
      "text/plain": [
       "Good         15688\n",
       "Excellent    14106\n",
       "Not Good       847\n",
       "Name: Score_status, dtype: int64"
      ]
     },
     "execution_count": 24,
     "metadata": {},
     "output_type": "execute_result"
    }
   ],
   "source": [
    "df['Score_status'].value_counts()"
   ]
  },
  {
   "cell_type": "code",
   "execution_count": 25,
   "id": "0bb3c11b",
   "metadata": {},
   "outputs": [
    {
     "data": {
      "text/plain": [
       "Good         15688\n",
       "Excellent    14106\n",
       "Not Good       847\n",
       "Name: Score_status, dtype: int64"
      ]
     },
     "execution_count": 25,
     "metadata": {},
     "output_type": "execute_result"
    }
   ],
   "source": [
    "y = df['Score_status'].value_counts()\n",
    "y"
   ]
  },
  {
   "cell_type": "markdown",
   "id": "314f2bad",
   "metadata": {},
   "source": [
    "<b>"
   ]
  },
  {
   "cell_type": "code",
   "execution_count": 26,
   "id": "f65755d0",
   "metadata": {},
   "outputs": [
    {
     "data": {
      "text/plain": [
       "['Good', 'Excellent', 'Not Good']"
      ]
     },
     "execution_count": 26,
     "metadata": {},
     "output_type": "execute_result"
    }
   ],
   "source": [
    "lebels=df['Score_status'].unique()\n",
    "x=[lebels[1],lebels[0],lebels[2]]\n",
    "x"
   ]
  },
  {
   "cell_type": "code",
   "execution_count": 27,
   "id": "30c8d79a",
   "metadata": {
    "scrolled": false
   },
   "outputs": [
    {
     "data": {
      "text/plain": [
       "Text(0.5, 1.0, 'Result of Total student')"
      ]
     },
     "execution_count": 27,
     "metadata": {},
     "output_type": "execute_result"
    },
    {
     "data": {
      "image/png": "[encoded data removed]",
      "text/plain": [
       "<Figure size 864x504 with 1 Axes>"
      ]
     },
     "metadata": {
      "needs_background": "light"
     },
     "output_type": "display_data"
    }
   ],
   "source": [
    "fig, ax = plt.subplots(figsize=(12,7))\n",
    "ax.bar(x[0], y[0],color='Blue')\n",
    "ax.bar(x[1], y[1],color='#11b623')\n",
    "ax.bar(x[2], y[2],color='Red')\n",
    "plt.grid(axis='y',color='#708070',linestyle='--')\n",
    "ax.set_ylabel('Count of Students')\n",
    "ax.set_title('Result of Total student')"
   ]
  },
  {
   "cell_type": "markdown",
   "id": "03b4172e",
   "metadata": {},
   "source": [
    "<style>\n",
    "  hr {\n",
    "    height: 5px; /* Adjust the desired thickness of the line */\n",
    "    background-color: black; /* Set the color of the line to black */\n",
    "    border: 1px solid black; /* Add a border with a thickness of 1px and black color */\n",
    "    margin: 10px 0; /* Adjust the margin around the line */\n",
    "  }\n",
    "</style>\n",
    "\n",
    "<hr>\n"
   ]
  },
  {
   "cell_type": "markdown",
   "id": "cdd37062",
   "metadata": {},
   "source": [
    "<p>"
   ]
  },
  {
   "cell_type": "markdown",
   "id": "5d9ad36e",
   "metadata": {},
   "source": [
    "<h5> Now let's see the result of male and female separately</h5>"
   ]
  },
  {
   "cell_type": "markdown",
   "id": "8373f196",
   "metadata": {},
   "source": [
    "For female...."
   ]
  },
  {
   "cell_type": "code",
   "execution_count": 29,
   "id": "81e23e51",
   "metadata": {},
   "outputs": [
    {
     "data": {
      "text/plain": [
       "0    Excellent\n",
       "1    Excellent\n",
       "2    Excellent\n",
       "5    Excellent\n",
       "6    Excellent\n",
       "Name: Score_status, dtype: category\n",
       "Categories (3, object): ['Not Good' < 'Good' < 'Excellent']"
      ]
     },
     "execution_count": 29,
     "metadata": {},
     "output_type": "execute_result"
    }
   ],
   "source": [
    "df_female= df[df['Gender']=='female']['Score_status']\n",
    "df_female.head()"
   ]
  },
  {
   "cell_type": "code",
   "execution_count": 30,
   "id": "4a7e4456",
   "metadata": {},
   "outputs": [
    {
     "data": {
      "text/plain": [
       "Excellent    7877\n",
       "Good         7214\n",
       "Not Good      333\n",
       "Name: Score_status, dtype: int64"
      ]
     },
     "execution_count": 30,
     "metadata": {},
     "output_type": "execute_result"
    }
   ],
   "source": [
    "df_female.value_counts()"
   ]
  },
  {
   "cell_type": "code",
   "execution_count": 101,
   "id": "c2281c29",
   "metadata": {},
   "outputs": [
    {
     "data": {
      "text/plain": [
       "15424"
      ]
     },
     "execution_count": 101,
     "metadata": {},
     "output_type": "execute_result"
    }
   ],
   "source": [
    "df_female.count()"
   ]
  },
  {
   "cell_type": "code",
   "execution_count": 31,
   "id": "68274535",
   "metadata": {},
   "outputs": [
    {
     "data": {
      "text/plain": [
       "[7877, 7214, 333]"
      ]
     },
     "execution_count": 31,
     "metadata": {},
     "output_type": "execute_result"
    }
   ],
   "source": [
    "cnt_vl_female=list(df_female.value_counts())\n",
    "cnt_vl_female"
   ]
  },
  {
   "cell_type": "markdown",
   "id": "646b92e8",
   "metadata": {},
   "source": [
    "<b>"
   ]
  },
  {
   "cell_type": "code",
   "execution_count": 103,
   "id": "c19455cb",
   "metadata": {},
   "outputs": [],
   "source": [
    "y_female1=(cnt_vl_female[0]/df_female.count())*100 #Exellent\n",
    "y_female2=(cnt_vl_female[1]/df_female.count())*100 #Good\n",
    "y_female3=(cnt_vl_female[2]/df_female.count())*100 #Not Good"
   ]
  },
  {
   "cell_type": "markdown",
   "id": "ac55a7b1",
   "metadata": {},
   "source": [
    "For male...."
   ]
  },
  {
   "cell_type": "code",
   "execution_count": 34,
   "id": "f4ea88cd",
   "metadata": {},
   "outputs": [
    {
     "data": {
      "text/plain": [
       "3          Good\n",
       "4     Excellent\n",
       "7          Good\n",
       "8          Good\n",
       "10         Good\n",
       "Name: Score_status, dtype: category\n",
       "Categories (3, object): ['Not Good' < 'Good' < 'Excellent']"
      ]
     },
     "execution_count": 34,
     "metadata": {},
     "output_type": "execute_result"
    }
   ],
   "source": [
    "df_male= df[df['Gender']=='male']['Score_status']\n",
    "df_male.head()"
   ]
  },
  {
   "cell_type": "code",
   "execution_count": 35,
   "id": "98401a24",
   "metadata": {},
   "outputs": [
    {
     "data": {
      "text/plain": [
       "Good         8474\n",
       "Excellent    6229\n",
       "Not Good      514\n",
       "Name: Score_status, dtype: int64"
      ]
     },
     "execution_count": 35,
     "metadata": {},
     "output_type": "execute_result"
    }
   ],
   "source": [
    "df_male.value_counts()"
   ]
  },
  {
   "cell_type": "code",
   "execution_count": 36,
   "id": "b0858771",
   "metadata": {},
   "outputs": [
    {
     "data": {
      "text/plain": [
       "[8474, 6229, 514]"
      ]
     },
     "execution_count": 36,
     "metadata": {},
     "output_type": "execute_result"
    }
   ],
   "source": [
    "cnt_vl_male=list(df_male.value_counts())\n",
    "cnt_vl_male"
   ]
  },
  {
   "cell_type": "code",
   "execution_count": 102,
   "id": "dc4c632b",
   "metadata": {},
   "outputs": [
    {
     "data": {
      "text/plain": [
       "15217"
      ]
     },
     "execution_count": 102,
     "metadata": {},
     "output_type": "execute_result"
    }
   ],
   "source": [
    "df_male.count()"
   ]
  },
  {
   "cell_type": "code",
   "execution_count": 104,
   "id": "6fac81f3",
   "metadata": {},
   "outputs": [],
   "source": [
    "y_male1=(cnt_vl_male[1]/df_male.count())*100 #Exellent\n",
    "y_male2=(cnt_vl_male[0]/df_male.count())*100 #Good\n",
    "y_male3=(cnt_vl_male[2]/df_male.count())*100 #Not Good"
   ]
  },
  {
   "cell_type": "code",
   "execution_count": 33,
   "id": "23085516",
   "metadata": {},
   "outputs": [
    {
     "data": {
      "text/plain": [
       "array(['female', 'male'], dtype=object)"
      ]
     },
     "execution_count": 33,
     "metadata": {},
     "output_type": "execute_result"
    }
   ],
   "source": [
    "df['Gender'].unique()"
   ]
  },
  {
   "cell_type": "markdown",
   "id": "88884b88",
   "metadata": {},
   "source": [
    "The plot........"
   ]
  },
  {
   "cell_type": "code",
   "execution_count": 113,
   "id": "e8f674ee",
   "metadata": {},
   "outputs": [
    {
     "data": {
      "image/png": "[encoded data removed]",
      "text/plain": [
       "<Figure size 1440x360 with 3 Axes>"
      ]
     },
     "metadata": {
      "needs_background": "light"
     },
     "output_type": "display_data"
    }
   ],
   "source": [
    "x_lebel= df['Gender'].unique()\n",
    "\n",
    "fig, axes = plt.subplots(1, 3, figsize=(20,5),)\n",
    "\n",
    "axes[0].bar(x_lebel[0], y_female1,color='#ef14eb')\n",
    "axes[0].bar(x_lebel[1], y_male1,color='#033504' )\n",
    "axes[0].set_xlabel('Genders')\n",
    "axes[0].set_ylabel('Number of Students')\n",
    "axes[0].set_title('Excellent Scores')\n",
    "# axes[0].set_ylim(0,100)\n",
    "axes[0].grid(axis='y',color='#708070',linestyle='--')\n",
    "\n",
    "axes[1].bar(x_lebel[0],y_female2,color='#ef14eb')\n",
    "axes[1].bar(x_lebel[1],y_male2,color='#033504')\n",
    "axes[1].set_xlabel('Genders')\n",
    "axes[1].set_ylabel('Number of Students')\n",
    "axes[1].set_title('Good Scores')\n",
    "# axes[1].set_ylim(0,100)\n",
    "axes[1].grid(axis='y',color='#708070',linestyle='--')\n",
    "\n",
    "axes[2].bar(x_lebel[0],y_female3,color='#ef14eb')\n",
    "axes[2].bar(x_lebel[1],y_male3,color='#033504')\n",
    "axes[2].set_xlabel('Genders')\n",
    "axes[2].set_ylabel('Number of Students')\n",
    "axes[2].set_title('Not a good Scores')\n",
    "# axes[2].set_ylim(0,100)\n",
    "axes[2].grid(axis='y',color='#708070',linestyle='--')"
   ]
  },
  {
   "cell_type": "markdown",
   "id": "927ae14d",
   "metadata": {},
   "source": [
    "<style>\n",
    "  hr {\n",
    "    height: 5px; /* Adjust the desired thickness of the line */\n",
    "    background-color: black; /* Set the color of the line to black */\n",
    "    border: 1px solid black; /* Add a border with a thickness of 1px and black color */\n",
    "    margin: 10px 0; /* Adjust the margin around the line */\n",
    "  }\n",
    "</style>\n",
    "\n",
    "<hr>\n"
   ]
  },
  {
   "cell_type": "markdown",
   "id": "104202c8",
   "metadata": {},
   "source": [
    "<h5> Let's see parent's Education and if that effects on theire child </h5>"
   ]
  },
  {
   "cell_type": "code",
   "execution_count": 39,
   "id": "4e28f33f",
   "metadata": {},
   "outputs": [
    {
     "data": {
      "text/plain": [
       "some college          8478\n",
       "high school           5687\n",
       "associate's degree    5550\n",
       "some high school      5517\n",
       "bachelor's degree     3386\n",
       "master's degree       2023\n",
       "Name: ParentEduc, dtype: int64"
      ]
     },
     "execution_count": 39,
     "metadata": {},
     "output_type": "execute_result"
    }
   ],
   "source": [
    "df['ParentEduc'].value_counts()"
   ]
  },
  {
   "cell_type": "code",
   "execution_count": 40,
   "id": "7aa9c69f",
   "metadata": {},
   "outputs": [],
   "source": [
    "dic=dict(df['ParentEduc'].value_counts())\n",
    "dic\n",
    "x_ax=list(dic.keys())\n",
    "y_ax=list(dic.values())"
   ]
  },
  {
   "cell_type": "markdown",
   "id": "a955198c",
   "metadata": {},
   "source": [
    "Column chart..."
   ]
  },
  {
   "cell_type": "code",
   "execution_count": 41,
   "id": "b2e803da",
   "metadata": {},
   "outputs": [
    {
     "data": {
      "text/plain": [
       "Text(0.5, 1.0, \"Result of total studen's parent's Degree.\")"
      ]
     },
     "execution_count": 41,
     "metadata": {},
     "output_type": "execute_result"
    },
    {
     "data": {
      "image/png": "[encoded data removed]",
      "text/plain": [
       "<Figure size 1440x504 with 1 Axes>"
      ]
     },
     "metadata": {
      "needs_background": "light"
     },
     "output_type": "display_data"
    }
   ],
   "source": [
    "fig, ax = plt.subplots(figsize=(20,7))\n",
    "\n",
    "ax.bar(x_ax[0], y_ax[0],color='purple')\n",
    "ax.bar(x_ax[1], y_ax[1],color='#11b623')\n",
    "ax.bar(x_ax[2], y_ax[2],color='Red')\n",
    "ax.bar(x_ax[3], y_ax[3],color='grey')\n",
    "ax.bar(x_ax[4], y_ax[4],color='black')\n",
    "ax.bar(x_ax[5], y_ax[5],color='orange')\n",
    "ax.tick_params(axis='both', labelsize=15)\n",
    "\n",
    "plt.grid(axis='y',color='#708070',linestyle='--')\n",
    "\n",
    "ax.set_ylabel(\"Count of Parent's degrees\",fontsize=17)\n",
    "ax.set_title('Result of total studen\\'s parent\\'s Degree.',fontsize=20)"
   ]
  },
  {
   "cell_type": "markdown",
   "id": "afbf025d",
   "metadata": {},
   "source": [
    "Pie chart..."
   ]
  },
  {
   "cell_type": "code",
   "execution_count": 42,
   "id": "b069bf87",
   "metadata": {},
   "outputs": [
    {
     "data": {
      "image/png": "[encoded data removed]",
      "text/plain": [
       "<Figure size 720x720 with 1 Axes>"
      ]
     },
     "metadata": {},
     "output_type": "display_data"
    }
   ],
   "source": [
    "largest_index = y_ax.index(max(y_ax))\n",
    "\n",
    "\n",
    "explode = [0.1 if i == largest_index else 0 for i in range(len(x_ax))]\n",
    "\n",
    "\n",
    "\n",
    "plt.figure(figsize=(10, 10)) \n",
    "plt.pie(y_ax, labels = x_ax, autopct='%1.1f%%',explode=explode, textprops={'color': 'black', 'backgroundcolor': 'white'},wedgeprops={'linewidth': 5, 'edgecolor': 'White'})\n",
    "plt.show()"
   ]
  },
  {
   "cell_type": "markdown",
   "id": "662f57db",
   "metadata": {},
   "source": [
    "<style>\n",
    "  hr {\n",
    "    height: 5px; /* Adjust the desired thickness of the line */\n",
    "    background-color: black; /* Set the color of the line to black */\n",
    "    border: 1px solid black; /* Add a border with a thickness of 1px and black color */\n",
    "    margin: 10px 0; /* Adjust the margin around the line */\n",
    "  }\n",
    "</style>\n",
    "\n",
    "<hr>\n"
   ]
  },
  {
   "cell_type": "code",
   "execution_count": 43,
   "id": "84df4716",
   "metadata": {},
   "outputs": [
    {
     "data": {
      "text/plain": [
       "Index(['Unnamed: 0', 'Gender', 'EthnicGroup', 'ParentEduc', 'LunchType',\n",
       "       'TestPrep', 'ParentMaritalStatus', 'PracticeSport', 'IsFirstChild',\n",
       "       'NrSiblings', 'TransportMeans', 'WklyStudyHours', 'MathScore',\n",
       "       'ReadingScore', 'WritingScore', 'Total_avg_score', 'Score_status'],\n",
       "      dtype='object')"
      ]
     },
     "execution_count": 43,
     "metadata": {},
     "output_type": "execute_result"
    }
   ],
   "source": [
    "df.columns"
   ]
  },
  {
   "cell_type": "code",
   "execution_count": 44,
   "id": "3f20e4d8",
   "metadata": {},
   "outputs": [
    {
     "data": {
      "text/plain": [
       "some college          8478\n",
       "high school           5687\n",
       "associate's degree    5550\n",
       "some high school      5517\n",
       "bachelor's degree     3386\n",
       "master's degree       2023\n",
       "Name: ParentEduc, dtype: int64"
      ]
     },
     "execution_count": 44,
     "metadata": {},
     "output_type": "execute_result"
    }
   ],
   "source": [
    "df['ParentEduc'].value_counts()"
   ]
  },
  {
   "cell_type": "markdown",
   "id": "47be0109",
   "metadata": {},
   "source": [
    "<p>"
   ]
  },
  {
   "cell_type": "markdown",
   "id": "c3a098b5",
   "metadata": {},
   "source": [
    "<p>"
   ]
  },
  {
   "cell_type": "markdown",
   "id": "d70fe74f",
   "metadata": {},
   "source": [
    "<p>"
   ]
  },
  {
   "cell_type": "markdown",
   "id": "71cc77bb",
   "metadata": {},
   "source": [
    "<h4> Parent education: <i> \"some college\""
   ]
  },
  {
   "cell_type": "code",
   "execution_count": 45,
   "id": "d0194ee9",
   "metadata": {},
   "outputs": [
    {
     "data": {
      "text/plain": [
       "{'Good': 4353, 'Excellent': 3900, 'Not Good': 225}"
      ]
     },
     "execution_count": 45,
     "metadata": {},
     "output_type": "execute_result"
    }
   ],
   "source": [
    "parenteduc_scollege = df[df['ParentEduc'] == 'some college']['Score_status']\n",
    "parenteduc_scollege_dict=dict(parenteduc_scollege.value_counts())\n",
    "parenteduc_scollege_dict"
   ]
  },
  {
   "cell_type": "code",
   "execution_count": 46,
   "id": "4c992ed5",
   "metadata": {},
   "outputs": [
    {
     "data": {
      "text/plain": [
       "(['Good', 'Excellent', 'Not Good'], [4353, 3900, 225])"
      ]
     },
     "execution_count": 46,
     "metadata": {},
     "output_type": "execute_result"
    }
   ],
   "source": [
    "X1=list(parenteduc_scollege_dict.keys())\n",
    "Y1=list(parenteduc_scollege_dict.values())\n",
    "X1,Y1"
   ]
  },
  {
   "cell_type": "code",
   "execution_count": 47,
   "id": "d0c0db03",
   "metadata": {},
   "outputs": [
    {
     "data": {
      "image/png": "[encoded data removed]",
      "text/plain": [
       "<Figure size 504x504 with 1 Axes>"
      ]
     },
     "metadata": {},
     "output_type": "display_data"
    }
   ],
   "source": [
    "largest_index = Y1.index(max(Y1))\n",
    "\n",
    "\n",
    "explode1 = [0.05 if o == largest_index else 0 for o in range(len(X1))]\n",
    "\n",
    "plt.figure(figsize=(7, 7)) \n",
    "plt.pie(Y1, labels = X1, autopct='%1.1f%%',explode=explode1, textprops={'color': 'black', 'backgroundcolor': 'white'},wedgeprops={'linewidth': 5, 'edgecolor': 'White'})\n",
    "plt.show()\n"
   ]
  },
  {
   "cell_type": "markdown",
   "id": "92441f85",
   "metadata": {},
   "source": [
    "<h4> Parent education: <i> \"high school\""
   ]
  },
  {
   "cell_type": "code",
   "execution_count": 48,
   "id": "55c4d009",
   "metadata": {},
   "outputs": [
    {
     "data": {
      "text/plain": [
       "{'Good': 3258, 'Excellent': 2241, 'Not Good': 188}"
      ]
     },
     "execution_count": 48,
     "metadata": {},
     "output_type": "execute_result"
    }
   ],
   "source": [
    "parenteduc_highschool = df[df['ParentEduc'] == 'high school']['Score_status']\n",
    "parenteduc_highschool_dict=dict(parenteduc_highschool.value_counts())\n",
    "parenteduc_highschool_dict"
   ]
  },
  {
   "cell_type": "code",
   "execution_count": 49,
   "id": "7c07d77f",
   "metadata": {},
   "outputs": [
    {
     "data": {
      "text/plain": [
       "(['Good', 'Excellent', 'Not Good'], [3258, 2241, 188])"
      ]
     },
     "execution_count": 49,
     "metadata": {},
     "output_type": "execute_result"
    }
   ],
   "source": [
    "X2=list(parenteduc_highschool_dict.keys())\n",
    "Y2=list(parenteduc_highschool_dict.values())\n",
    "X2,Y2"
   ]
  },
  {
   "cell_type": "code",
   "execution_count": 50,
   "id": "7d22c749",
   "metadata": {},
   "outputs": [
    {
     "data": {
      "image/png": "[encoded data removed]",
      "text/plain": [
       "<Figure size 504x504 with 1 Axes>"
      ]
     },
     "metadata": {},
     "output_type": "display_data"
    }
   ],
   "source": [
    "largest_inde2 = Y2.index(max(Y2))\n",
    "\n",
    "\n",
    "explode2 = [0.05 if p == largest_index else 0 for p in range(len(X2))]\n",
    "explode2\n",
    "plt.figure(figsize=(7, 7)) \n",
    "plt.pie(Y2, labels = X2, autopct='%1.1f%%',explode=explode2, textprops={'color': 'black', 'backgroundcolor': 'white'},wedgeprops={'linewidth': 5, 'edgecolor': 'White'})\n",
    "plt.show()"
   ]
  },
  {
   "cell_type": "markdown",
   "id": "266aa0f0",
   "metadata": {},
   "source": [
    "<h4> Parent education: <i> \"associate's degree\""
   ]
  },
  {
   "cell_type": "code",
   "execution_count": 51,
   "id": "5ca28a96",
   "metadata": {},
   "outputs": [
    {
     "data": {
      "text/plain": [
       "{'Excellent': 2796, 'Good': 2650, 'Not Good': 104}"
      ]
     },
     "execution_count": 51,
     "metadata": {},
     "output_type": "execute_result"
    }
   ],
   "source": [
    "parenteduc_assodegree = df[df['ParentEduc'] == \"associate's degree\"]['Score_status']\n",
    "parenteduc_assodegree_dict=dict(parenteduc_assodegree.value_counts())\n",
    "parenteduc_assodegree_dict"
   ]
  },
  {
   "cell_type": "code",
   "execution_count": 52,
   "id": "58082383",
   "metadata": {},
   "outputs": [
    {
     "data": {
      "text/plain": [
       "(['Excellent', 'Good', 'Not Good'], [2796, 2650, 104])"
      ]
     },
     "execution_count": 52,
     "metadata": {},
     "output_type": "execute_result"
    }
   ],
   "source": [
    "X3=list(parenteduc_assodegree_dict.keys())\n",
    "Y3=list(parenteduc_assodegree_dict.values())\n",
    "X3,Y3"
   ]
  },
  {
   "cell_type": "code",
   "execution_count": 53,
   "id": "2ece55d7",
   "metadata": {},
   "outputs": [
    {
     "data": {
      "image/png": "[encoded data removed]",
      "text/plain": [
       "<Figure size 504x504 with 1 Axes>"
      ]
     },
     "metadata": {},
     "output_type": "display_data"
    }
   ],
   "source": [
    "largest_inde3 = Y3.index(max(Y3))\n",
    "\n",
    "\n",
    "explode3 = [0.05 if j == largest_index else 0 for j in range(len(X3))]\n",
    "explode3\n",
    "plt.figure(figsize=(7, 7)) \n",
    "plt.pie(Y3, labels = X3, autopct='%1.1f%%',explode=explode3, textprops={'color': 'black', 'backgroundcolor': 'white'},wedgeprops={'linewidth': 5, 'edgecolor': 'White'})\n",
    "plt.show()"
   ]
  },
  {
   "cell_type": "markdown",
   "id": "7513f683",
   "metadata": {},
   "source": [
    "<h4> Parent education: <i> \"some high school\""
   ]
  },
  {
   "cell_type": "code",
   "execution_count": 114,
   "id": "45c85ac6",
   "metadata": {},
   "outputs": [
    {
     "data": {
      "text/plain": [
       "{'Good': 3337, 'Excellent': 1903, 'Not Good': 277}"
      ]
     },
     "execution_count": 114,
     "metadata": {},
     "output_type": "execute_result"
    }
   ],
   "source": [
    "parenteduc_shighschool = df[df['ParentEduc'] == 'some high school']['Score_status']\n",
    "parenteduc_shighschool_dict=dict(parenteduc_shighschool.value_counts())\n",
    "parenteduc_shighschool_dict"
   ]
  },
  {
   "cell_type": "code",
   "execution_count": 55,
   "id": "27292d32",
   "metadata": {},
   "outputs": [
    {
     "data": {
      "text/plain": [
       "(['Good', 'Excellent', 'Not Good'], [3337, 1903, 277])"
      ]
     },
     "execution_count": 55,
     "metadata": {},
     "output_type": "execute_result"
    }
   ],
   "source": [
    "X4=list(parenteduc_shighschool_dict.keys())\n",
    "Y4=list(parenteduc_shighschool_dict.values())\n",
    "X4,Y4"
   ]
  },
  {
   "cell_type": "code",
   "execution_count": 56,
   "id": "d6a2ea48",
   "metadata": {
    "scrolled": false
   },
   "outputs": [
    {
     "data": {
      "image/png": "[encoded data removed]",
      "text/plain": [
       "<Figure size 504x504 with 1 Axes>"
      ]
     },
     "metadata": {},
     "output_type": "display_data"
    }
   ],
   "source": [
    "largest_inde4 = Y4.index(max(Y4))\n",
    "\n",
    "\n",
    "explode4 = [0.05 if k == largest_index else 0 for k in range(len(X4))]\n",
    "explode4\n",
    "plt.figure(figsize=(7, 7)) \n",
    "plt.pie(Y4, labels = X4, autopct='%1.1f%%',explode=explode4, textprops={'color': 'black', 'backgroundcolor': 'white'},wedgeprops={'linewidth': 5, 'edgecolor': 'White'})\n",
    "plt.show()"
   ]
  },
  {
   "cell_type": "markdown",
   "id": "4e424b66",
   "metadata": {},
   "source": [
    "<h4> Parent education: <i> \"bachelor's degree\""
   ]
  },
  {
   "cell_type": "code",
   "execution_count": 57,
   "id": "7ae5a25b",
   "metadata": {},
   "outputs": [
    {
     "data": {
      "text/plain": [
       "{'Excellent': 1962, 'Good': 1386, 'Not Good': 38}"
      ]
     },
     "execution_count": 57,
     "metadata": {},
     "output_type": "execute_result"
    }
   ],
   "source": [
    "parenteduc_bachdegree = df[df['ParentEduc'] == \"bachelor's degree\"]['Score_status']\n",
    "parenteduc_bachdegree_dict=dict(parenteduc_bachdegree.value_counts())\n",
    "parenteduc_bachdegree_dict"
   ]
  },
  {
   "cell_type": "code",
   "execution_count": 58,
   "id": "913232c9",
   "metadata": {},
   "outputs": [
    {
     "data": {
      "text/plain": [
       "(['Excellent', 'Good', 'Not Good'], [1962, 1386, 38])"
      ]
     },
     "execution_count": 58,
     "metadata": {},
     "output_type": "execute_result"
    }
   ],
   "source": [
    "X5=list(parenteduc_bachdegree_dict.keys())\n",
    "Y5=list(parenteduc_bachdegree_dict.values())\n",
    "X5,Y5"
   ]
  },
  {
   "cell_type": "code",
   "execution_count": 59,
   "id": "3f2e9107",
   "metadata": {},
   "outputs": [
    {
     "data": {
      "image/png": "[encoded data removed]",
      "text/plain": [
       "<Figure size 504x504 with 1 Axes>"
      ]
     },
     "metadata": {},
     "output_type": "display_data"
    }
   ],
   "source": [
    "largest_inde5 = Y5.index(max(Y5))\n",
    "\n",
    "\n",
    "explode5 = [0.05 if l == largest_index else 0 for l in range(len(X5))]\n",
    "explode5\n",
    "plt.figure(figsize=(7, 7)) \n",
    "plt.pie(Y5, labels = X5, autopct='%1.1f%%',explode=explode5, textprops={'color': 'black', 'backgroundcolor': 'white'},wedgeprops={'linewidth': 5, 'edgecolor': 'White'})\n",
    "plt.show()"
   ]
  },
  {
   "cell_type": "markdown",
   "id": "2843dfb8",
   "metadata": {},
   "source": [
    "<h4> Parent education: <i> \"master's degree\""
   ]
  },
  {
   "cell_type": "code",
   "execution_count": 115,
   "id": "e348c54a",
   "metadata": {},
   "outputs": [
    {
     "data": {
      "text/plain": [
       "{'Excellent': 1304, 'Good': 704, 'Not Good': 15}"
      ]
     },
     "execution_count": 115,
     "metadata": {},
     "output_type": "execute_result"
    }
   ],
   "source": [
    "parenteduc_mdegree = df[df['ParentEduc'] == \"master's degree\"]['Score_status']\n",
    "parenteduc_mdegree_dict=dict(parenteduc_mdegree.value_counts())\n",
    "parenteduc_mdegree_dict"
   ]
  },
  {
   "cell_type": "code",
   "execution_count": 61,
   "id": "b4a72630",
   "metadata": {},
   "outputs": [
    {
     "data": {
      "text/plain": [
       "(['Excellent', 'Good', 'Not Good'], [1304, 704, 15])"
      ]
     },
     "execution_count": 61,
     "metadata": {},
     "output_type": "execute_result"
    }
   ],
   "source": [
    "X6=list(parenteduc_mdegree_dict.keys())\n",
    "Y6=list(parenteduc_mdegree_dict.values())\n",
    "X6,Y6"
   ]
  },
  {
   "cell_type": "code",
   "execution_count": 62,
   "id": "f7d8ff82",
   "metadata": {},
   "outputs": [
    {
     "data": {
      "image/png": "[encoded data removed]",
      "text/plain": [
       "<Figure size 504x504 with 1 Axes>"
      ]
     },
     "metadata": {},
     "output_type": "display_data"
    }
   ],
   "source": [
    "largest_inde6 = Y6.index(max(Y6))\n",
    "\n",
    "\n",
    "explode6 = [0.05 if m == largest_index else 0 for m in range(len(X6))]\n",
    "explode6\n",
    "plt.figure(figsize=(7, 7)) \n",
    "plt.pie(Y6, labels = X6, autopct='%1.1f%%',explode=explode6, textprops={'color': 'black', 'backgroundcolor': 'white'},wedgeprops={'linewidth': 5, 'edgecolor': 'White'})\n",
    "plt.show()"
   ]
  },
  {
   "cell_type": "markdown",
   "id": "119230b0",
   "metadata": {},
   "source": [
    "<style>\n",
    "  hr {\n",
    "    height: 5px; /* Adjust the desired thickness of the line */\n",
    "    background-color: black; /* Set the color of the line to black */\n",
    "    border: 1px solid black; /* Add a border with a thickness of 1px and black color */\n",
    "    margin: 10px 0; /* Adjust the margin around the line */\n",
    "  }\n",
    "</style>\n",
    "\n",
    "<hr>\n"
   ]
  },
  {
   "cell_type": "markdown",
   "id": "e45916f9",
   "metadata": {},
   "source": [
    "<h5> Checking the three catagories of result based on parent's education"
   ]
  },
  {
   "cell_type": "code",
   "execution_count": 63,
   "id": "f4b4610a",
   "metadata": {},
   "outputs": [
    {
     "data": {
      "text/plain": [
       "{'Good': 4353, 'Excellent': 3900, 'Not Good': 225}"
      ]
     },
     "execution_count": 63,
     "metadata": {},
     "output_type": "execute_result"
    }
   ],
   "source": [
    "parenteduc_scollege_dict  #some school\n",
    "# parenteduc_highschool_dict  #high school\n",
    "# parenteduc_assodegree_dict # associat's degree\n",
    "# parenteduc_shighschool_dict # some high school\n",
    "# parenteduc_bachdegree_dict # bachelor's degree\n",
    "# parenteduc_mdegree_dict # master's degree"
   ]
  },
  {
   "cell_type": "code",
   "execution_count": 64,
   "id": "3917e3d2",
   "metadata": {},
   "outputs": [
    {
     "data": {
      "text/plain": [
       "[\"bachelor's degree\",\n",
       " 'some college',\n",
       " \"master's degree\",\n",
       " \"associate's degree\",\n",
       " 'high school',\n",
       " 'some high school']"
      ]
     },
     "execution_count": 64,
     "metadata": {},
     "output_type": "execute_result"
    }
   ],
   "source": [
    "x_axis=list(df['ParentEduc'].unique())\n",
    "x_axis"
   ]
  },
  {
   "cell_type": "code",
   "execution_count": 65,
   "id": "bf24083f",
   "metadata": {},
   "outputs": [
    {
     "data": {
      "text/plain": [
       "(['Good', 'Excellent', 'Not Good'], [3337, 1903, 277])"
      ]
     },
     "execution_count": 65,
     "metadata": {},
     "output_type": "execute_result"
    }
   ],
   "source": [
    "# X1,Y1 #some college\n",
    "# X2,Y2 #high school\n",
    "# X3,Y3 # associat's degree\n",
    "# X4,Y4 # some high school\n",
    "# X5,Y5 # bachelor's degree\n",
    "# X6,Y6 # master's degree\n",
    "X4,Y4"
   ]
  },
  {
   "cell_type": "code",
   "execution_count": 116,
   "id": "5e3152e9",
   "metadata": {},
   "outputs": [
    {
     "data": {
      "image/png": "[encoded data removed]",
      "text/plain": [
       "<Figure size 2160x720 with 3 Axes>"
      ]
     },
     "metadata": {
      "needs_background": "light"
     },
     "output_type": "display_data"
    }
   ],
   "source": [
    "fig, axes = plt.subplots(1, 3, figsize=(30,10),)\n",
    "\n",
    "axes[0].bar(x_axis[0], Y5[0],color='#4A6650')\n",
    "axes[0].bar(x_axis[1], Y1[1],color='#4A6650' )\n",
    "axes[0].bar(x_axis[2], Y6[0],color='#4A6650' )\n",
    "axes[0].bar(x_axis[3], Y3[0],color='#4A6650' )\n",
    "axes[0].bar(x_axis[4], Y2[1],color='#4A6650' )\n",
    "axes[0].bar(x_axis[5], Y4[1],color='#4A6650' )\n",
    "axes[0].set_ylabel('Number of Students',fontsize=17)\n",
    "axes[0].set_title('Excellent Results',fontsize=20)\n",
    "axes[0].grid(axis='y',color='#708070',linestyle='--')\n",
    "axes[0].set_xticks(range(len(x_axis)))  # Set the x-axis tick positions\n",
    "axes[0].set_xticklabels(x_axis, rotation=60) \n",
    "axes[0].tick_params(axis='both', which='major', labelsize=15)\n",
    "\n",
    "\n",
    "axes[1].bar(x_axis[0], Y5[1],color='#463376')\n",
    "axes[1].bar(x_axis[1], Y1[0],color='#463376' )\n",
    "axes[1].bar(x_axis[2], Y6[1],color='#463376' )\n",
    "axes[1].bar(x_axis[3], Y3[1],color='#463376' )\n",
    "axes[1].bar(x_axis[4], Y2[0],color='#463376' )\n",
    "axes[1].bar(x_axis[5], Y4[0],color='#463376' )\n",
    "axes[1].set_ylabel('Number of Students',fontsize=17)\n",
    "axes[1].set_title('Good Results',fontsize=20)\n",
    "axes[1].grid(axis='y',color='#708070',linestyle='--')\n",
    "axes[1].set_xticks(range(len(x_axis)))  # Set the x-axis tick positions\n",
    "axes[1].set_xticklabels(x_axis, rotation=60) \n",
    "axes[1].tick_params(axis='both', which='major', labelsize=15)\n",
    "\n",
    "axes[2].bar(x_axis[0], Y5[2],color='#cc0000')\n",
    "axes[2].bar(x_axis[1], Y1[2],color='#cc0000' )\n",
    "axes[2].bar(x_axis[2], Y6[2],color='#cc0000' )\n",
    "axes[2].bar(x_axis[3], Y3[2],color='#cc0000' )\n",
    "axes[2].bar(x_axis[4], Y2[2],color='#cc0000' )\n",
    "axes[2].bar(x_axis[5], Y4[2],color='#cc0000' )\n",
    "axes[2].set_ylabel('Number of Students',fontsize=17)\n",
    "axes[2].set_title('Not a good Results',fontsize=20)\n",
    "axes[2].grid(axis='y',color='#708070',linestyle='--')\n",
    "axes[2].set_xticks(range(len(x_axis)))  # Set the x-axis tick positions\n",
    "axes[2].set_xticklabels(x_axis, rotation=60) \n",
    "axes[2].tick_params(axis='both', which='major', labelsize=15)\n"
   ]
  },
  {
   "cell_type": "markdown",
   "id": "95ed423c",
   "metadata": {},
   "source": [
    "<style>\n",
    "  hr {\n",
    "    height: 5px; /* Adjust the desired thickness of the line */\n",
    "    background-color: black; /* Set the color of the line to black */\n",
    "    border: 1px solid black; /* Add a border with a thickness of 1px and black color */\n",
    "    margin: 10px 0; /* Adjust the margin around the line */\n",
    "  }\n",
    "</style>\n",
    "\n",
    "<hr>\n"
   ]
  },
  {
   "cell_type": "markdown",
   "id": "55b24c9b",
   "metadata": {},
   "source": [
    "<h5> Checking the result of male and female based on theire study hour."
   ]
  },
  {
   "cell_type": "code",
   "execution_count": 67,
   "id": "ab489dfa",
   "metadata": {},
   "outputs": [
    {
     "data": {
      "text/plain": [
       "['some college',\n",
       " 'high school',\n",
       " \"associate's degree\",\n",
       " 'some high school',\n",
       " \"bachelor's degree\",\n",
       " \"master's degree\"]"
      ]
     },
     "execution_count": 67,
     "metadata": {},
     "output_type": "execute_result"
    }
   ],
   "source": [
    "x_ax"
   ]
  },
  {
   "cell_type": "code",
   "execution_count": 68,
   "id": "e1da4296",
   "metadata": {},
   "outputs": [
    {
     "data": {
      "text/plain": [
       "5-10    4527\n",
       "< 5     1935\n",
       "> 10    1415\n",
       "Name: WklyStudyHours, dtype: int64"
      ]
     },
     "execution_count": 68,
     "metadata": {},
     "output_type": "execute_result"
    }
   ],
   "source": [
    "Exl_female_studey = df[(df[\"Gender\"] == 'female') & (df['Score_status'] == 'Excellent')]\n",
    "Exl_female_studey['WklyStudyHours'].value_counts()"
   ]
  },
  {
   "cell_type": "code",
   "execution_count": 69,
   "id": "625329b8",
   "metadata": {},
   "outputs": [
    {
     "data": {
      "text/plain": [
       "[4527, 1935, 1415]"
      ]
     },
     "execution_count": 69,
     "metadata": {},
     "output_type": "execute_result"
    }
   ],
   "source": [
    "y_value_female=list(Exl_female_studey['WklyStudyHours'].value_counts())\n",
    "y_value_female"
   ]
  },
  {
   "cell_type": "code",
   "execution_count": 70,
   "id": "0cc1488b",
   "metadata": {},
   "outputs": [
    {
     "data": {
      "text/plain": [
       "5-10    3501\n",
       "< 5     1529\n",
       "> 10    1199\n",
       "Name: WklyStudyHours, dtype: int64"
      ]
     },
     "execution_count": 70,
     "metadata": {},
     "output_type": "execute_result"
    }
   ],
   "source": [
    "Exl_male_studey = df[(df[\"Gender\"] == 'male') & (df['Score_status'] == 'Excellent')]\n",
    "Exl_male_studey['WklyStudyHours'].value_counts()"
   ]
  },
  {
   "cell_type": "code",
   "execution_count": 71,
   "id": "318f5862",
   "metadata": {},
   "outputs": [
    {
     "data": {
      "text/plain": [
       "[3501, 1529, 1199]"
      ]
     },
     "execution_count": 71,
     "metadata": {},
     "output_type": "execute_result"
    }
   ],
   "source": [
    "y_value=list(Exl_male_studey['WklyStudyHours'].value_counts())\n",
    "y_value"
   ]
  },
  {
   "cell_type": "code",
   "execution_count": 72,
   "id": "a32a6802",
   "metadata": {},
   "outputs": [],
   "source": [
    "x_value=['Between 5 to 10hrs','Less than 5 hrs','More than 10hrs']"
   ]
  },
  {
   "cell_type": "markdown",
   "id": "4fe9c576",
   "metadata": {},
   "source": [
    "<h6> Excellent result's plot of male and female"
   ]
  },
  {
   "cell_type": "code",
   "execution_count": 73,
   "id": "673fbbf1",
   "metadata": {},
   "outputs": [
    {
     "data": {
      "image/png": "[encoded data removed]",
      "text/plain": [
       "<Figure size 1440x360 with 2 Axes>"
      ]
     },
     "metadata": {
      "needs_background": "light"
     },
     "output_type": "display_data"
    }
   ],
   "source": [
    "fig, axes = plt.subplots(1, 2, figsize=(20,5),)\n",
    "\n",
    "axes[0].bar(x_value[0], y_value[0],color='#ef2617')\n",
    "axes[0].bar(x_value[1], y_value[1],color='#ac190f' )\n",
    "axes[0].bar(x_value[2], y_value[2],color='#7b130c' )\n",
    "axes[0].set_xlabel('Male')\n",
    "axes[0].set_title(' Study hour of Excellent Scores Done by male')\n",
    "axes[0].grid(axis='y',color='#708070',linestyle='--')\n",
    "\n",
    "axes[1].bar(x_value[0],y_value_female[0],color='#f718f7')\n",
    "axes[1].bar(x_value[1],y_value_female[1],color='#b912b9')\n",
    "axes[1].bar(x_value[2],y_value_female[2],color='#890d89')\n",
    "axes[1].set_xlabel('Female')\n",
    "axes[1].set_title('Study hour of Excellent Scores Done by female')\n",
    "axes[1].grid(axis='y',color='#708070',linestyle='--')"
   ]
  },
  {
   "cell_type": "code",
   "execution_count": 74,
   "id": "54418d67",
   "metadata": {},
   "outputs": [
    {
     "data": {
      "text/plain": [
       "5-10    166\n",
       "< 5     121\n",
       "> 10     46\n",
       "Name: WklyStudyHours, dtype: int64"
      ]
     },
     "execution_count": 74,
     "metadata": {},
     "output_type": "execute_result"
    }
   ],
   "source": [
    "Wor_female_studey = df[(df[\"Gender\"] == 'female') & (df['Score_status'] == 'Not Good')]\n",
    "Wor_female_studey['WklyStudyHours'].value_counts()"
   ]
  },
  {
   "cell_type": "code",
   "execution_count": 75,
   "id": "c852945d",
   "metadata": {},
   "outputs": [
    {
     "data": {
      "text/plain": [
       "[166, 121, 46]"
      ]
     },
     "execution_count": 75,
     "metadata": {},
     "output_type": "execute_result"
    }
   ],
   "source": [
    "y_value_female2=list(Wor_female_studey['WklyStudyHours'].value_counts())\n",
    "y_value_female2"
   ]
  },
  {
   "cell_type": "code",
   "execution_count": 76,
   "id": "71eceb19",
   "metadata": {},
   "outputs": [
    {
     "data": {
      "text/plain": [
       "5-10    284\n",
       "< 5     152\n",
       "> 10     78\n",
       "Name: WklyStudyHours, dtype: int64"
      ]
     },
     "execution_count": 76,
     "metadata": {},
     "output_type": "execute_result"
    }
   ],
   "source": [
    "Wor_male_studey = df[(df[\"Gender\"] == 'male') & (df['Score_status'] == 'Not Good')]\n",
    "Wor_male_studey['WklyStudyHours'].value_counts()"
   ]
  },
  {
   "cell_type": "code",
   "execution_count": 77,
   "id": "ae3cd1b8",
   "metadata": {},
   "outputs": [
    {
     "data": {
      "text/plain": [
       "[284, 152, 78]"
      ]
     },
     "execution_count": 77,
     "metadata": {},
     "output_type": "execute_result"
    }
   ],
   "source": [
    "y_value_male2=list(Wor_male_studey['WklyStudyHours'].value_counts())\n",
    "y_value_male2"
   ]
  },
  {
   "cell_type": "code",
   "execution_count": 78,
   "id": "79d1bfdd",
   "metadata": {},
   "outputs": [],
   "source": [
    "x_value=['Between 5 to 10hrs','Less than 5 hrs','More than 10hrs']"
   ]
  },
  {
   "cell_type": "markdown",
   "id": "acbf5733",
   "metadata": {},
   "source": [
    "<h6> Bad result's plot of male and female"
   ]
  },
  {
   "cell_type": "code",
   "execution_count": 79,
   "id": "21f69006",
   "metadata": {
    "scrolled": true
   },
   "outputs": [
    {
     "data": {
      "image/png": "[encoded data removed]",
      "text/plain": [
       "<Figure size 1440x360 with 2 Axes>"
      ]
     },
     "metadata": {
      "needs_background": "light"
     },
     "output_type": "display_data"
    }
   ],
   "source": [
    "fig, axes = plt.subplots(1, 2, figsize=(20,5),)\n",
    "\n",
    "axes[0].bar(x_value[0], y_value_male2[0],color='#ef2617')\n",
    "axes[0].bar(x_value[1], y_value_male2[1],color='#ac190f' )\n",
    "axes[0].bar(x_value[2], y_value_male2[2],color='#7b130c' )\n",
    "axes[0].set_xlabel('Male')\n",
    "axes[0].set_title(' Study hour of Bad Scores Done by male')\n",
    "axes[0].grid(axis='y',color='#708070',linestyle='--')\n",
    "\n",
    "axes[1].bar(x_value[0],y_value_female2[0],color='#f718f7')\n",
    "axes[1].bar(x_value[1],y_value_female2[1],color='#b912b9')\n",
    "axes[1].bar(x_value[2],y_value_female2[2],color='#890d89')\n",
    "axes[1].set_xlabel('Female')\n",
    "axes[1].set_title('Study hour of Bad Scores Done by female')\n",
    "axes[1].grid(axis='y',color='#708070',linestyle='--')"
   ]
  },
  {
   "cell_type": "markdown",
   "id": "a3308f8e",
   "metadata": {},
   "source": [
    "<style>\n",
    "  hr {\n",
    "    height: 5px; /* Adjust the desired thickness of the line */\n",
    "    background-color: black; /* Set the color of the line to black */\n",
    "    border: 1px solid black; /* Add a border with a thickness of 1px and black color */\n",
    "    margin: 10px 0; /* Adjust the margin around the line */\n",
    "  }\n",
    "</style>\n",
    "\n",
    "<hr>\n"
   ]
  },
  {
   "cell_type": "markdown",
   "id": "1612bcdf",
   "metadata": {},
   "source": [
    "<h5> Analyzing the result by test preparetion "
   ]
  },
  {
   "cell_type": "code",
   "execution_count": 80,
   "id": "ed406c28",
   "metadata": {
    "scrolled": true
   },
   "outputs": [
    {
     "data": {
      "text/plain": [
       "Index(['Unnamed: 0', 'Gender', 'EthnicGroup', 'ParentEduc', 'LunchType',\n",
       "       'TestPrep', 'ParentMaritalStatus', 'PracticeSport', 'IsFirstChild',\n",
       "       'NrSiblings', 'TransportMeans', 'WklyStudyHours', 'MathScore',\n",
       "       'ReadingScore', 'WritingScore', 'Total_avg_score', 'Score_status'],\n",
       "      dtype='object')"
      ]
     },
     "execution_count": 80,
     "metadata": {},
     "output_type": "execute_result"
    }
   ],
   "source": [
    "df.columns"
   ]
  },
  {
   "cell_type": "code",
   "execution_count": 81,
   "id": "62f35cd1",
   "metadata": {},
   "outputs": [
    {
     "data": {
      "text/plain": [
       "['none', 'completed']"
      ]
     },
     "execution_count": 81,
     "metadata": {},
     "output_type": "execute_result"
    }
   ],
   "source": [
    "test_prep_label= list(df['TestPrep'].unique())\n",
    "test_prep_label"
   ]
  },
  {
   "cell_type": "code",
   "execution_count": 82,
   "id": "6bebfcbf",
   "metadata": {},
   "outputs": [],
   "source": [
    "total_test_prep_none=df[df['TestPrep']=='none']['Score_status']\n",
    "ex_test_prep_none=df[(df['TestPrep']=='none')&(df['Score_status']=='Excellent')]['Score_status']\n",
    "gd_test_prep_none=df[(df['TestPrep']=='none')&(df['Score_status']=='Good')]['Score_status']\n",
    "bd_test_prep_none=df[(df['TestPrep']=='none')&(df['Score_status']=='Not Good')]['Score_status']"
   ]
  },
  {
   "cell_type": "code",
   "execution_count": 83,
   "id": "04ebbbd7",
   "metadata": {},
   "outputs": [],
   "source": [
    "total_test_prep_complet=df[df['TestPrep']=='completed']['Score_status']\n",
    "ex_test_prep_complet=df[(df['TestPrep']=='completed')&(df['Score_status']=='Excellent')]['Score_status']\n",
    "gd_test_prep_complet=df[(df['TestPrep']=='completed')&(df['Score_status']=='Good')]['Score_status']\n",
    "bd_test_prep_complet=df[(df['TestPrep']=='completed')&(df['Score_status']=='Not Good')]['Score_status']"
   ]
  },
  {
   "cell_type": "code",
   "execution_count": 84,
   "id": "1a568ed1",
   "metadata": {},
   "outputs": [],
   "source": [
    "ex_ratio_none=(ex_test_prep_none.count()/total_test_prep_none.count())*100\n",
    "gd_ratio_none=(gd_test_prep_none.count()/total_test_prep_none.count())*100\n",
    "bd_ratio_none=(bd_test_prep_none.count()/total_test_prep_none.count())*100"
   ]
  },
  {
   "cell_type": "code",
   "execution_count": 85,
   "id": "6ef178ae",
   "metadata": {},
   "outputs": [],
   "source": [
    "ex_ratio_complet=(ex_test_prep_complet.count()/total_test_prep_complet.count())*100\n",
    "gd_ratio_complet=(gd_test_prep_complet.count()/total_test_prep_complet.count())*100\n",
    "bd_ratio_complet=(bd_test_prep_complet.count()/total_test_prep_complet.count())*100"
   ]
  },
  {
   "cell_type": "code",
   "execution_count": 97,
   "id": "3bf510a4",
   "metadata": {
    "scrolled": true
   },
   "outputs": [
    {
     "data": {
      "text/plain": [
       "(0.0, 100.0)"
      ]
     },
     "execution_count": 97,
     "metadata": {},
     "output_type": "execute_result"
    },
    {
     "data": {
      "image/png": "[encoded data removed]",
      "text/plain": [
       "<Figure size 1440x360 with 3 Axes>"
      ]
     },
     "metadata": {
      "needs_background": "light"
     },
     "output_type": "display_data"
    }
   ],
   "source": [
    "fig, axes = plt.subplots(1, 3, figsize=(20,5))\n",
    "axes[0].bar(test_prep_label[0], ex_ratio_none,color='#6A22FF')\n",
    "axes[0].bar(test_prep_label[1], ex_ratio_complet,color='#6A22FF' )\n",
    "axes[0].set_title('Excellent result of prep time completed vs not completed')\n",
    "axes[0].grid(axis='y',color='#708070',linestyle='--')\n",
    "axes[0].set_ylim(0,100)\n",
    "\n",
    "axes[1].bar(test_prep_label[0],gd_ratio_none,color='#FF3660')\n",
    "axes[1].bar(test_prep_label[1],gd_ratio_complet,color='#FF3660')\n",
    "axes[1].set_title('Good result of prep time completed vs not completed')\n",
    "axes[1].grid(axis='y',color='#708070',linestyle='--')\n",
    "axes[1].set_ylim(0,100)\n",
    "\n",
    "axes[2].bar(test_prep_label[0],bd_ratio_none,color='#410000')\n",
    "axes[2].bar(test_prep_label[1],bd_ratio_complet,color='#410000')\n",
    "axes[2].set_title('Bad result of prep time completed vs not completed')\n",
    "axes[2].grid(axis='y',color='#708070',linestyle='--')\n",
    "axes[2].set_ylim(0,100)"
   ]
  },
  {
   "cell_type": "markdown",
   "id": "3eda42df",
   "metadata": {},
   "source": [
    "Under progress..........................."
   ]
  }
 ],
 "metadata": {
  "kernelspec": {
   "display_name": "Python 3 (ipykernel)",
   "language": "python",
   "name": "python3"
  },
  "language_info": {
   "codemirror_mode": {
    "name": "ipython",
    "version": 3
   },
   "file_extension": ".py",
   "mimetype": "text/x-python",
   "name": "python",
   "nbconvert_exporter": "python",
   "pygments_lexer": "ipython3",
   "version": "3.10.6"
  }
 },
 "nbformat": 4,
 "nbformat_minor": 5
}
